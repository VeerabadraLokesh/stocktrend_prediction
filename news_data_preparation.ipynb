{
 "cells": [
  {
   "cell_type": "code",
   "execution_count": 50,
   "id": "d7d8865d-9b9e-45cd-8129-e5def858f7bf",
   "metadata": {},
   "outputs": [
    {
     "ename": "RetryError",
     "evalue": "HTTPConnectionPool(host='httpstat.us', port=80): Max retries exceeded with url: /500 (Caused by ResponseError('too many 500 error responses'))",
     "output_type": "error",
     "traceback": [
      "\u001b[1;31m---------------------------------------------------------------------------\u001b[0m",
      "\u001b[1;31mResponseError\u001b[0m                             Traceback (most recent call last)",
      "\u001b[1;31mResponseError\u001b[0m: too many 500 error responses",
      "\nThe above exception was the direct cause of the following exception:\n",
      "\u001b[1;31mMaxRetryError\u001b[0m                             Traceback (most recent call last)",
      "File \u001b[1;32m~\\AppData\\Local\\miniforge3\\envs\\med_vqa\\lib\\site-packages\\requests\\adapters.py:486\u001b[0m, in \u001b[0;36mHTTPAdapter.send\u001b[1;34m(self, request, stream, timeout, verify, cert, proxies)\u001b[0m\n\u001b[0;32m    485\u001b[0m \u001b[38;5;28;01mtry\u001b[39;00m:\n\u001b[1;32m--> 486\u001b[0m     resp \u001b[38;5;241m=\u001b[39m \u001b[43mconn\u001b[49m\u001b[38;5;241;43m.\u001b[39;49m\u001b[43murlopen\u001b[49m\u001b[43m(\u001b[49m\n\u001b[0;32m    487\u001b[0m \u001b[43m        \u001b[49m\u001b[43mmethod\u001b[49m\u001b[38;5;241;43m=\u001b[39;49m\u001b[43mrequest\u001b[49m\u001b[38;5;241;43m.\u001b[39;49m\u001b[43mmethod\u001b[49m\u001b[43m,\u001b[49m\n\u001b[0;32m    488\u001b[0m \u001b[43m        \u001b[49m\u001b[43murl\u001b[49m\u001b[38;5;241;43m=\u001b[39;49m\u001b[43murl\u001b[49m\u001b[43m,\u001b[49m\n\u001b[0;32m    489\u001b[0m \u001b[43m        \u001b[49m\u001b[43mbody\u001b[49m\u001b[38;5;241;43m=\u001b[39;49m\u001b[43mrequest\u001b[49m\u001b[38;5;241;43m.\u001b[39;49m\u001b[43mbody\u001b[49m\u001b[43m,\u001b[49m\n\u001b[0;32m    490\u001b[0m \u001b[43m        \u001b[49m\u001b[43mheaders\u001b[49m\u001b[38;5;241;43m=\u001b[39;49m\u001b[43mrequest\u001b[49m\u001b[38;5;241;43m.\u001b[39;49m\u001b[43mheaders\u001b[49m\u001b[43m,\u001b[49m\n\u001b[0;32m    491\u001b[0m \u001b[43m        \u001b[49m\u001b[43mredirect\u001b[49m\u001b[38;5;241;43m=\u001b[39;49m\u001b[38;5;28;43;01mFalse\u001b[39;49;00m\u001b[43m,\u001b[49m\n\u001b[0;32m    492\u001b[0m \u001b[43m        \u001b[49m\u001b[43massert_same_host\u001b[49m\u001b[38;5;241;43m=\u001b[39;49m\u001b[38;5;28;43;01mFalse\u001b[39;49;00m\u001b[43m,\u001b[49m\n\u001b[0;32m    493\u001b[0m \u001b[43m        \u001b[49m\u001b[43mpreload_content\u001b[49m\u001b[38;5;241;43m=\u001b[39;49m\u001b[38;5;28;43;01mFalse\u001b[39;49;00m\u001b[43m,\u001b[49m\n\u001b[0;32m    494\u001b[0m \u001b[43m        \u001b[49m\u001b[43mdecode_content\u001b[49m\u001b[38;5;241;43m=\u001b[39;49m\u001b[38;5;28;43;01mFalse\u001b[39;49;00m\u001b[43m,\u001b[49m\n\u001b[0;32m    495\u001b[0m \u001b[43m        \u001b[49m\u001b[43mretries\u001b[49m\u001b[38;5;241;43m=\u001b[39;49m\u001b[38;5;28;43mself\u001b[39;49m\u001b[38;5;241;43m.\u001b[39;49m\u001b[43mmax_retries\u001b[49m\u001b[43m,\u001b[49m\n\u001b[0;32m    496\u001b[0m \u001b[43m        \u001b[49m\u001b[43mtimeout\u001b[49m\u001b[38;5;241;43m=\u001b[39;49m\u001b[43mtimeout\u001b[49m\u001b[43m,\u001b[49m\n\u001b[0;32m    497\u001b[0m \u001b[43m        \u001b[49m\u001b[43mchunked\u001b[49m\u001b[38;5;241;43m=\u001b[39;49m\u001b[43mchunked\u001b[49m\u001b[43m,\u001b[49m\n\u001b[0;32m    498\u001b[0m \u001b[43m    \u001b[49m\u001b[43m)\u001b[49m\n\u001b[0;32m    500\u001b[0m \u001b[38;5;28;01mexcept\u001b[39;00m (ProtocolError, \u001b[38;5;167;01mOSError\u001b[39;00m) \u001b[38;5;28;01mas\u001b[39;00m err:\n",
      "File \u001b[1;32m~\\AppData\\Local\\miniforge3\\envs\\med_vqa\\lib\\site-packages\\urllib3\\connectionpool.py:948\u001b[0m, in \u001b[0;36mHTTPConnectionPool.urlopen\u001b[1;34m(self, method, url, body, headers, retries, redirect, assert_same_host, timeout, pool_timeout, release_conn, chunked, body_pos, preload_content, decode_content, **response_kw)\u001b[0m\n\u001b[0;32m    947\u001b[0m     log\u001b[38;5;241m.\u001b[39mdebug(\u001b[38;5;124m\"\u001b[39m\u001b[38;5;124mRetry: \u001b[39m\u001b[38;5;132;01m%s\u001b[39;00m\u001b[38;5;124m\"\u001b[39m, url)\n\u001b[1;32m--> 948\u001b[0m     \u001b[38;5;28;01mreturn\u001b[39;00m \u001b[38;5;28mself\u001b[39m\u001b[38;5;241m.\u001b[39murlopen(\n\u001b[0;32m    949\u001b[0m         method,\n\u001b[0;32m    950\u001b[0m         url,\n\u001b[0;32m    951\u001b[0m         body,\n\u001b[0;32m    952\u001b[0m         headers,\n\u001b[0;32m    953\u001b[0m         retries\u001b[38;5;241m=\u001b[39mretries,\n\u001b[0;32m    954\u001b[0m         redirect\u001b[38;5;241m=\u001b[39mredirect,\n\u001b[0;32m    955\u001b[0m         assert_same_host\u001b[38;5;241m=\u001b[39massert_same_host,\n\u001b[0;32m    956\u001b[0m         timeout\u001b[38;5;241m=\u001b[39mtimeout,\n\u001b[0;32m    957\u001b[0m         pool_timeout\u001b[38;5;241m=\u001b[39mpool_timeout,\n\u001b[0;32m    958\u001b[0m         release_conn\u001b[38;5;241m=\u001b[39mrelease_conn,\n\u001b[0;32m    959\u001b[0m         chunked\u001b[38;5;241m=\u001b[39mchunked,\n\u001b[0;32m    960\u001b[0m         body_pos\u001b[38;5;241m=\u001b[39mbody_pos,\n\u001b[0;32m    961\u001b[0m         preload_content\u001b[38;5;241m=\u001b[39mpreload_content,\n\u001b[0;32m    962\u001b[0m         decode_content\u001b[38;5;241m=\u001b[39mdecode_content,\n\u001b[0;32m    963\u001b[0m         \u001b[38;5;241m*\u001b[39m\u001b[38;5;241m*\u001b[39mresponse_kw,\n\u001b[0;32m    964\u001b[0m     )\n\u001b[0;32m    966\u001b[0m \u001b[38;5;28;01mreturn\u001b[39;00m response\n",
      "File \u001b[1;32m~\\AppData\\Local\\miniforge3\\envs\\med_vqa\\lib\\site-packages\\urllib3\\connectionpool.py:948\u001b[0m, in \u001b[0;36mHTTPConnectionPool.urlopen\u001b[1;34m(self, method, url, body, headers, retries, redirect, assert_same_host, timeout, pool_timeout, release_conn, chunked, body_pos, preload_content, decode_content, **response_kw)\u001b[0m\n\u001b[0;32m    947\u001b[0m     log\u001b[38;5;241m.\u001b[39mdebug(\u001b[38;5;124m\"\u001b[39m\u001b[38;5;124mRetry: \u001b[39m\u001b[38;5;132;01m%s\u001b[39;00m\u001b[38;5;124m\"\u001b[39m, url)\n\u001b[1;32m--> 948\u001b[0m     \u001b[38;5;28;01mreturn\u001b[39;00m \u001b[38;5;28mself\u001b[39m\u001b[38;5;241m.\u001b[39murlopen(\n\u001b[0;32m    949\u001b[0m         method,\n\u001b[0;32m    950\u001b[0m         url,\n\u001b[0;32m    951\u001b[0m         body,\n\u001b[0;32m    952\u001b[0m         headers,\n\u001b[0;32m    953\u001b[0m         retries\u001b[38;5;241m=\u001b[39mretries,\n\u001b[0;32m    954\u001b[0m         redirect\u001b[38;5;241m=\u001b[39mredirect,\n\u001b[0;32m    955\u001b[0m         assert_same_host\u001b[38;5;241m=\u001b[39massert_same_host,\n\u001b[0;32m    956\u001b[0m         timeout\u001b[38;5;241m=\u001b[39mtimeout,\n\u001b[0;32m    957\u001b[0m         pool_timeout\u001b[38;5;241m=\u001b[39mpool_timeout,\n\u001b[0;32m    958\u001b[0m         release_conn\u001b[38;5;241m=\u001b[39mrelease_conn,\n\u001b[0;32m    959\u001b[0m         chunked\u001b[38;5;241m=\u001b[39mchunked,\n\u001b[0;32m    960\u001b[0m         body_pos\u001b[38;5;241m=\u001b[39mbody_pos,\n\u001b[0;32m    961\u001b[0m         preload_content\u001b[38;5;241m=\u001b[39mpreload_content,\n\u001b[0;32m    962\u001b[0m         decode_content\u001b[38;5;241m=\u001b[39mdecode_content,\n\u001b[0;32m    963\u001b[0m         \u001b[38;5;241m*\u001b[39m\u001b[38;5;241m*\u001b[39mresponse_kw,\n\u001b[0;32m    964\u001b[0m     )\n\u001b[0;32m    966\u001b[0m \u001b[38;5;28;01mreturn\u001b[39;00m response\n",
      "    \u001b[1;31m[... skipping similar frames: HTTPConnectionPool.urlopen at line 948 (2 times)]\u001b[0m\n",
      "File \u001b[1;32m~\\AppData\\Local\\miniforge3\\envs\\med_vqa\\lib\\site-packages\\urllib3\\connectionpool.py:948\u001b[0m, in \u001b[0;36mHTTPConnectionPool.urlopen\u001b[1;34m(self, method, url, body, headers, retries, redirect, assert_same_host, timeout, pool_timeout, release_conn, chunked, body_pos, preload_content, decode_content, **response_kw)\u001b[0m\n\u001b[0;32m    947\u001b[0m     log\u001b[38;5;241m.\u001b[39mdebug(\u001b[38;5;124m\"\u001b[39m\u001b[38;5;124mRetry: \u001b[39m\u001b[38;5;132;01m%s\u001b[39;00m\u001b[38;5;124m\"\u001b[39m, url)\n\u001b[1;32m--> 948\u001b[0m     \u001b[38;5;28;01mreturn\u001b[39;00m \u001b[38;5;28mself\u001b[39m\u001b[38;5;241m.\u001b[39murlopen(\n\u001b[0;32m    949\u001b[0m         method,\n\u001b[0;32m    950\u001b[0m         url,\n\u001b[0;32m    951\u001b[0m         body,\n\u001b[0;32m    952\u001b[0m         headers,\n\u001b[0;32m    953\u001b[0m         retries\u001b[38;5;241m=\u001b[39mretries,\n\u001b[0;32m    954\u001b[0m         redirect\u001b[38;5;241m=\u001b[39mredirect,\n\u001b[0;32m    955\u001b[0m         assert_same_host\u001b[38;5;241m=\u001b[39massert_same_host,\n\u001b[0;32m    956\u001b[0m         timeout\u001b[38;5;241m=\u001b[39mtimeout,\n\u001b[0;32m    957\u001b[0m         pool_timeout\u001b[38;5;241m=\u001b[39mpool_timeout,\n\u001b[0;32m    958\u001b[0m         release_conn\u001b[38;5;241m=\u001b[39mrelease_conn,\n\u001b[0;32m    959\u001b[0m         chunked\u001b[38;5;241m=\u001b[39mchunked,\n\u001b[0;32m    960\u001b[0m         body_pos\u001b[38;5;241m=\u001b[39mbody_pos,\n\u001b[0;32m    961\u001b[0m         preload_content\u001b[38;5;241m=\u001b[39mpreload_content,\n\u001b[0;32m    962\u001b[0m         decode_content\u001b[38;5;241m=\u001b[39mdecode_content,\n\u001b[0;32m    963\u001b[0m         \u001b[38;5;241m*\u001b[39m\u001b[38;5;241m*\u001b[39mresponse_kw,\n\u001b[0;32m    964\u001b[0m     )\n\u001b[0;32m    966\u001b[0m \u001b[38;5;28;01mreturn\u001b[39;00m response\n",
      "File \u001b[1;32m~\\AppData\\Local\\miniforge3\\envs\\med_vqa\\lib\\site-packages\\urllib3\\connectionpool.py:938\u001b[0m, in \u001b[0;36mHTTPConnectionPool.urlopen\u001b[1;34m(self, method, url, body, headers, retries, redirect, assert_same_host, timeout, pool_timeout, release_conn, chunked, body_pos, preload_content, decode_content, **response_kw)\u001b[0m\n\u001b[0;32m    937\u001b[0m \u001b[38;5;28;01mtry\u001b[39;00m:\n\u001b[1;32m--> 938\u001b[0m     retries \u001b[38;5;241m=\u001b[39m \u001b[43mretries\u001b[49m\u001b[38;5;241;43m.\u001b[39;49m\u001b[43mincrement\u001b[49m\u001b[43m(\u001b[49m\u001b[43mmethod\u001b[49m\u001b[43m,\u001b[49m\u001b[43m \u001b[49m\u001b[43murl\u001b[49m\u001b[43m,\u001b[49m\u001b[43m \u001b[49m\u001b[43mresponse\u001b[49m\u001b[38;5;241;43m=\u001b[39;49m\u001b[43mresponse\u001b[49m\u001b[43m,\u001b[49m\u001b[43m \u001b[49m\u001b[43m_pool\u001b[49m\u001b[38;5;241;43m=\u001b[39;49m\u001b[38;5;28;43mself\u001b[39;49m\u001b[43m)\u001b[49m\n\u001b[0;32m    939\u001b[0m \u001b[38;5;28;01mexcept\u001b[39;00m MaxRetryError:\n",
      "File \u001b[1;32m~\\AppData\\Local\\miniforge3\\envs\\med_vqa\\lib\\site-packages\\urllib3\\util\\retry.py:515\u001b[0m, in \u001b[0;36mRetry.increment\u001b[1;34m(self, method, url, response, error, _pool, _stacktrace)\u001b[0m\n\u001b[0;32m    514\u001b[0m     reason \u001b[38;5;241m=\u001b[39m error \u001b[38;5;129;01mor\u001b[39;00m ResponseError(cause)\n\u001b[1;32m--> 515\u001b[0m     \u001b[38;5;28;01mraise\u001b[39;00m MaxRetryError(_pool, url, reason) \u001b[38;5;28;01mfrom\u001b[39;00m \u001b[38;5;21;01mreason\u001b[39;00m  \u001b[38;5;66;03m# type: ignore[arg-type]\u001b[39;00m\n\u001b[0;32m    517\u001b[0m log\u001b[38;5;241m.\u001b[39mdebug(\u001b[38;5;124m\"\u001b[39m\u001b[38;5;124mIncremented Retry for (url=\u001b[39m\u001b[38;5;124m'\u001b[39m\u001b[38;5;132;01m%s\u001b[39;00m\u001b[38;5;124m'\u001b[39m\u001b[38;5;124m): \u001b[39m\u001b[38;5;132;01m%r\u001b[39;00m\u001b[38;5;124m\"\u001b[39m, url, new_retry)\n",
      "\u001b[1;31mMaxRetryError\u001b[0m: HTTPConnectionPool(host='httpstat.us', port=80): Max retries exceeded with url: /500 (Caused by ResponseError('too many 500 error responses'))",
      "\nDuring handling of the above exception, another exception occurred:\n",
      "\u001b[1;31mRetryError\u001b[0m                                Traceback (most recent call last)",
      "Cell \u001b[1;32mIn[50], line 13\u001b[0m\n\u001b[0;32m      7\u001b[0m retries \u001b[38;5;241m=\u001b[39m Retry(total\u001b[38;5;241m=\u001b[39m\u001b[38;5;241m5\u001b[39m,\n\u001b[0;32m      8\u001b[0m                 backoff_factor\u001b[38;5;241m=\u001b[39m\u001b[38;5;241m0.1\u001b[39m,\n\u001b[0;32m      9\u001b[0m                 status_forcelist\u001b[38;5;241m=\u001b[39m[ \u001b[38;5;241m500\u001b[39m, \u001b[38;5;241m502\u001b[39m, \u001b[38;5;241m503\u001b[39m, \u001b[38;5;241m504\u001b[39m ])\n\u001b[0;32m     11\u001b[0m s\u001b[38;5;241m.\u001b[39mmount(\u001b[38;5;124m'\u001b[39m\u001b[38;5;124mhttp://\u001b[39m\u001b[38;5;124m'\u001b[39m, HTTPAdapter(max_retries\u001b[38;5;241m=\u001b[39mretries))\n\u001b[1;32m---> 13\u001b[0m \u001b[43ms\u001b[49m\u001b[38;5;241;43m.\u001b[39;49m\u001b[43mget\u001b[49m\u001b[43m(\u001b[49m\u001b[38;5;124;43m'\u001b[39;49m\u001b[38;5;124;43mhttp://httpstat.us/500\u001b[39;49m\u001b[38;5;124;43m'\u001b[39;49m\u001b[43m)\u001b[49m\n",
      "File \u001b[1;32m~\\AppData\\Local\\miniforge3\\envs\\med_vqa\\lib\\site-packages\\requests\\sessions.py:602\u001b[0m, in \u001b[0;36mSession.get\u001b[1;34m(self, url, **kwargs)\u001b[0m\n\u001b[0;32m    594\u001b[0m \u001b[38;5;250m\u001b[39m\u001b[38;5;124mr\u001b[39m\u001b[38;5;124;03m\"\"\"Sends a GET request. Returns :class:`Response` object.\u001b[39;00m\n\u001b[0;32m    595\u001b[0m \n\u001b[0;32m    596\u001b[0m \u001b[38;5;124;03m:param url: URL for the new :class:`Request` object.\u001b[39;00m\n\u001b[0;32m    597\u001b[0m \u001b[38;5;124;03m:param \\*\\*kwargs: Optional arguments that ``request`` takes.\u001b[39;00m\n\u001b[0;32m    598\u001b[0m \u001b[38;5;124;03m:rtype: requests.Response\u001b[39;00m\n\u001b[0;32m    599\u001b[0m \u001b[38;5;124;03m\"\"\"\u001b[39;00m\n\u001b[0;32m    601\u001b[0m kwargs\u001b[38;5;241m.\u001b[39msetdefault(\u001b[38;5;124m\"\u001b[39m\u001b[38;5;124mallow_redirects\u001b[39m\u001b[38;5;124m\"\u001b[39m, \u001b[38;5;28;01mTrue\u001b[39;00m)\n\u001b[1;32m--> 602\u001b[0m \u001b[38;5;28;01mreturn\u001b[39;00m \u001b[38;5;28mself\u001b[39m\u001b[38;5;241m.\u001b[39mrequest(\u001b[38;5;124m\"\u001b[39m\u001b[38;5;124mGET\u001b[39m\u001b[38;5;124m\"\u001b[39m, url, \u001b[38;5;241m*\u001b[39m\u001b[38;5;241m*\u001b[39mkwargs)\n",
      "File \u001b[1;32m~\\AppData\\Local\\miniforge3\\envs\\med_vqa\\lib\\site-packages\\requests\\sessions.py:589\u001b[0m, in \u001b[0;36mSession.request\u001b[1;34m(self, method, url, params, data, headers, cookies, files, auth, timeout, allow_redirects, proxies, hooks, stream, verify, cert, json)\u001b[0m\n\u001b[0;32m    584\u001b[0m send_kwargs \u001b[38;5;241m=\u001b[39m {\n\u001b[0;32m    585\u001b[0m     \u001b[38;5;124m\"\u001b[39m\u001b[38;5;124mtimeout\u001b[39m\u001b[38;5;124m\"\u001b[39m: timeout,\n\u001b[0;32m    586\u001b[0m     \u001b[38;5;124m\"\u001b[39m\u001b[38;5;124mallow_redirects\u001b[39m\u001b[38;5;124m\"\u001b[39m: allow_redirects,\n\u001b[0;32m    587\u001b[0m }\n\u001b[0;32m    588\u001b[0m send_kwargs\u001b[38;5;241m.\u001b[39mupdate(settings)\n\u001b[1;32m--> 589\u001b[0m resp \u001b[38;5;241m=\u001b[39m \u001b[38;5;28mself\u001b[39m\u001b[38;5;241m.\u001b[39msend(prep, \u001b[38;5;241m*\u001b[39m\u001b[38;5;241m*\u001b[39msend_kwargs)\n\u001b[0;32m    591\u001b[0m \u001b[38;5;28;01mreturn\u001b[39;00m resp\n",
      "File \u001b[1;32m~\\AppData\\Local\\miniforge3\\envs\\med_vqa\\lib\\site-packages\\requests\\sessions.py:703\u001b[0m, in \u001b[0;36mSession.send\u001b[1;34m(self, request, **kwargs)\u001b[0m\n\u001b[0;32m    700\u001b[0m start \u001b[38;5;241m=\u001b[39m preferred_clock()\n\u001b[0;32m    702\u001b[0m \u001b[38;5;66;03m# Send the request\u001b[39;00m\n\u001b[1;32m--> 703\u001b[0m r \u001b[38;5;241m=\u001b[39m adapter\u001b[38;5;241m.\u001b[39msend(request, \u001b[38;5;241m*\u001b[39m\u001b[38;5;241m*\u001b[39mkwargs)\n\u001b[0;32m    705\u001b[0m \u001b[38;5;66;03m# Total elapsed time of the request (approximately)\u001b[39;00m\n\u001b[0;32m    706\u001b[0m elapsed \u001b[38;5;241m=\u001b[39m preferred_clock() \u001b[38;5;241m-\u001b[39m start\n",
      "File \u001b[1;32m~\\AppData\\Local\\miniforge3\\envs\\med_vqa\\lib\\site-packages\\requests\\adapters.py:510\u001b[0m, in \u001b[0;36mHTTPAdapter.send\u001b[1;34m(self, request, stream, timeout, verify, cert, proxies)\u001b[0m\n\u001b[0;32m    507\u001b[0m         \u001b[38;5;28;01mraise\u001b[39;00m ConnectTimeout(e, request\u001b[38;5;241m=\u001b[39mrequest)\n\u001b[0;32m    509\u001b[0m \u001b[38;5;28;01mif\u001b[39;00m \u001b[38;5;28misinstance\u001b[39m(e\u001b[38;5;241m.\u001b[39mreason, ResponseError):\n\u001b[1;32m--> 510\u001b[0m     \u001b[38;5;28;01mraise\u001b[39;00m RetryError(e, request\u001b[38;5;241m=\u001b[39mrequest)\n\u001b[0;32m    512\u001b[0m \u001b[38;5;28;01mif\u001b[39;00m \u001b[38;5;28misinstance\u001b[39m(e\u001b[38;5;241m.\u001b[39mreason, _ProxyError):\n\u001b[0;32m    513\u001b[0m     \u001b[38;5;28;01mraise\u001b[39;00m ProxyError(e, request\u001b[38;5;241m=\u001b[39mrequest)\n",
      "\u001b[1;31mRetryError\u001b[0m: HTTPConnectionPool(host='httpstat.us', port=80): Max retries exceeded with url: /500 (Caused by ResponseError('too many 500 error responses'))"
     ]
    }
   ],
   "source": [
    "import requests\n",
    "\n",
    "from requests.adapters import HTTPAdapter, Retry\n",
    "\n",
    "s = requests.Session()\n",
    "\n",
    "retries = Retry(total=5,\n",
    "                backoff_factor=0.1,\n",
    "                status_forcelist=[ 500, 502, 503, 504 ])\n",
    "\n",
    "s.mount('http://', HTTPAdapter(max_retries=retries))\n",
    "\n",
    "s.get('http://httpstat.us/500')"
   ]
  },
  {
   "cell_type": "code",
   "execution_count": 4,
   "id": "4b4dabb9",
   "metadata": {},
   "outputs": [],
   "source": [
    "# import pandas as pd\n",
    "\n",
    "# raw_analyst_ratings_df = pd.read_csv('raw_analyst_ratings.csv')\n",
    "\n",
    "from dataset import load_dataset\n",
    "dataset_name ='miguelaenlle/massive-stock-news-analysis-db-for-nlpbacktests'\n",
    "file_name = 'raw_analyst_ratings.csv'\n",
    "raw_analyst_ratings_df = load_dataset(dataset_name, file_name)"
   ]
  },
  {
   "cell_type": "code",
   "execution_count": 5,
   "id": "1f3e6aa4",
   "metadata": {
    "scrolled": true
   },
   "outputs": [
    {
     "data": {
      "text/html": [
       "<div>\n",
       "<style scoped>\n",
       "    .dataframe tbody tr th:only-of-type {\n",
       "        vertical-align: middle;\n",
       "    }\n",
       "\n",
       "    .dataframe tbody tr th {\n",
       "        vertical-align: top;\n",
       "    }\n",
       "\n",
       "    .dataframe thead th {\n",
       "        text-align: right;\n",
       "    }\n",
       "</style>\n",
       "<table border=\"1\" class=\"dataframe\">\n",
       "  <thead>\n",
       "    <tr style=\"text-align: right;\">\n",
       "      <th></th>\n",
       "      <th>Unnamed: 0</th>\n",
       "      <th>headline</th>\n",
       "      <th>url</th>\n",
       "      <th>publisher</th>\n",
       "      <th>date</th>\n",
       "      <th>stock</th>\n",
       "    </tr>\n",
       "  </thead>\n",
       "  <tbody>\n",
       "    <tr>\n",
       "      <th>0</th>\n",
       "      <td>0</td>\n",
       "      <td>Stocks That Hit 52-Week Highs On Friday</td>\n",
       "      <td>https://www.benzinga.com/news/20/06/16190091/s...</td>\n",
       "      <td>Benzinga Insights</td>\n",
       "      <td>2020-06-05 10:30:54-04:00</td>\n",
       "      <td>A</td>\n",
       "    </tr>\n",
       "    <tr>\n",
       "      <th>1</th>\n",
       "      <td>1</td>\n",
       "      <td>Stocks That Hit 52-Week Highs On Wednesday</td>\n",
       "      <td>https://www.benzinga.com/news/20/06/16170189/s...</td>\n",
       "      <td>Benzinga Insights</td>\n",
       "      <td>2020-06-03 10:45:20-04:00</td>\n",
       "      <td>A</td>\n",
       "    </tr>\n",
       "    <tr>\n",
       "      <th>2</th>\n",
       "      <td>2</td>\n",
       "      <td>71 Biggest Movers From Friday</td>\n",
       "      <td>https://www.benzinga.com/news/20/05/16103463/7...</td>\n",
       "      <td>Lisa Levin</td>\n",
       "      <td>2020-05-26 04:30:07-04:00</td>\n",
       "      <td>A</td>\n",
       "    </tr>\n",
       "    <tr>\n",
       "      <th>3</th>\n",
       "      <td>3</td>\n",
       "      <td>46 Stocks Moving In Friday's Mid-Day Session</td>\n",
       "      <td>https://www.benzinga.com/news/20/05/16095921/4...</td>\n",
       "      <td>Lisa Levin</td>\n",
       "      <td>2020-05-22 12:45:06-04:00</td>\n",
       "      <td>A</td>\n",
       "    </tr>\n",
       "    <tr>\n",
       "      <th>4</th>\n",
       "      <td>4</td>\n",
       "      <td>B of A Securities Maintains Neutral on Agilent...</td>\n",
       "      <td>https://www.benzinga.com/news/20/05/16095304/b...</td>\n",
       "      <td>Vick Meyer</td>\n",
       "      <td>2020-05-22 11:38:59-04:00</td>\n",
       "      <td>A</td>\n",
       "    </tr>\n",
       "    <tr>\n",
       "      <th>...</th>\n",
       "      <td>...</td>\n",
       "      <td>...</td>\n",
       "      <td>...</td>\n",
       "      <td>...</td>\n",
       "      <td>...</td>\n",
       "      <td>...</td>\n",
       "    </tr>\n",
       "    <tr>\n",
       "      <th>1407323</th>\n",
       "      <td>1413844</td>\n",
       "      <td>Top Narrow Based Indexes For August 29</td>\n",
       "      <td>https://www.benzinga.com/news/11/08/1888782/to...</td>\n",
       "      <td>Monica Gerson</td>\n",
       "      <td>2011-08-29 00:00:00</td>\n",
       "      <td>ZX</td>\n",
       "    </tr>\n",
       "    <tr>\n",
       "      <th>1407324</th>\n",
       "      <td>1413845</td>\n",
       "      <td>Recap: Wednesday's Top Percentage Gainers and ...</td>\n",
       "      <td>https://www.benzinga.com/news/earnings/11/06/1...</td>\n",
       "      <td>Benjamin Lee</td>\n",
       "      <td>2011-06-22 00:00:00</td>\n",
       "      <td>ZX</td>\n",
       "    </tr>\n",
       "    <tr>\n",
       "      <th>1407325</th>\n",
       "      <td>1413846</td>\n",
       "      <td>UPDATE: Oppenheimer Color on China Zenix Auto ...</td>\n",
       "      <td>https://www.benzinga.com/analyst-ratings/analy...</td>\n",
       "      <td>BenzingaStaffL</td>\n",
       "      <td>2011-06-21 00:00:00</td>\n",
       "      <td>ZX</td>\n",
       "    </tr>\n",
       "    <tr>\n",
       "      <th>1407326</th>\n",
       "      <td>1413847</td>\n",
       "      <td>Oppenheimer Initiates China Zenix At Outperfor...</td>\n",
       "      <td>https://www.benzinga.com/analyst-ratings/price...</td>\n",
       "      <td>Joe Young</td>\n",
       "      <td>2011-06-21 00:00:00</td>\n",
       "      <td>ZX</td>\n",
       "    </tr>\n",
       "    <tr>\n",
       "      <th>1407327</th>\n",
       "      <td>1413848</td>\n",
       "      <td>China Zenix Auto International Opens For Tradi...</td>\n",
       "      <td>https://www.benzinga.com/news/ipos/11/05/10789...</td>\n",
       "      <td>Allie Wickman</td>\n",
       "      <td>2011-05-12 00:00:00</td>\n",
       "      <td>ZX</td>\n",
       "    </tr>\n",
       "  </tbody>\n",
       "</table>\n",
       "<p>1407328 rows × 6 columns</p>\n",
       "</div>"
      ],
      "text/plain": [
       "         Unnamed: 0                                           headline  \\\n",
       "0                 0            Stocks That Hit 52-Week Highs On Friday   \n",
       "1                 1         Stocks That Hit 52-Week Highs On Wednesday   \n",
       "2                 2                      71 Biggest Movers From Friday   \n",
       "3                 3       46 Stocks Moving In Friday's Mid-Day Session   \n",
       "4                 4  B of A Securities Maintains Neutral on Agilent...   \n",
       "...             ...                                                ...   \n",
       "1407323     1413844             Top Narrow Based Indexes For August 29   \n",
       "1407324     1413845  Recap: Wednesday's Top Percentage Gainers and ...   \n",
       "1407325     1413846  UPDATE: Oppenheimer Color on China Zenix Auto ...   \n",
       "1407326     1413847  Oppenheimer Initiates China Zenix At Outperfor...   \n",
       "1407327     1413848  China Zenix Auto International Opens For Tradi...   \n",
       "\n",
       "                                                       url          publisher  \\\n",
       "0        https://www.benzinga.com/news/20/06/16190091/s...  Benzinga Insights   \n",
       "1        https://www.benzinga.com/news/20/06/16170189/s...  Benzinga Insights   \n",
       "2        https://www.benzinga.com/news/20/05/16103463/7...         Lisa Levin   \n",
       "3        https://www.benzinga.com/news/20/05/16095921/4...         Lisa Levin   \n",
       "4        https://www.benzinga.com/news/20/05/16095304/b...         Vick Meyer   \n",
       "...                                                    ...                ...   \n",
       "1407323  https://www.benzinga.com/news/11/08/1888782/to...      Monica Gerson   \n",
       "1407324  https://www.benzinga.com/news/earnings/11/06/1...       Benjamin Lee   \n",
       "1407325  https://www.benzinga.com/analyst-ratings/analy...     BenzingaStaffL   \n",
       "1407326  https://www.benzinga.com/analyst-ratings/price...          Joe Young   \n",
       "1407327  https://www.benzinga.com/news/ipos/11/05/10789...      Allie Wickman   \n",
       "\n",
       "                              date stock  \n",
       "0        2020-06-05 10:30:54-04:00     A  \n",
       "1        2020-06-03 10:45:20-04:00     A  \n",
       "2        2020-05-26 04:30:07-04:00     A  \n",
       "3        2020-05-22 12:45:06-04:00     A  \n",
       "4        2020-05-22 11:38:59-04:00     A  \n",
       "...                            ...   ...  \n",
       "1407323        2011-08-29 00:00:00    ZX  \n",
       "1407324        2011-06-22 00:00:00    ZX  \n",
       "1407325        2011-06-21 00:00:00    ZX  \n",
       "1407326        2011-06-21 00:00:00    ZX  \n",
       "1407327        2011-05-12 00:00:00    ZX  \n",
       "\n",
       "[1407328 rows x 6 columns]"
      ]
     },
     "execution_count": 5,
     "metadata": {},
     "output_type": "execute_result"
    }
   ],
   "source": [
    "raw_analyst_ratings_df"
   ]
  },
  {
   "cell_type": "code",
   "execution_count": 23,
   "id": "2db03e70-5fe0-49ad-9261-91153ca87bb3",
   "metadata": {},
   "outputs": [
    {
     "data": {
      "text/plain": [
       "'https://www.benzinga.com/news/20/06/16190091/stocks-that-hit-52-week-highs-on-friday'"
      ]
     },
     "execution_count": 23,
     "metadata": {},
     "output_type": "execute_result"
    }
   ],
   "source": [
    "raw_analyst_ratings_df['url'].iloc[0]"
   ]
  },
  {
   "cell_type": "code",
   "execution_count": 48,
   "id": "c0475f60-3559-44d2-aaa5-e9c3bfeca44a",
   "metadata": {},
   "outputs": [
    {
     "name": "stdout",
     "output_type": "stream",
     "text": [
      "100\n",
      "101\n",
      "102\n",
      "103\n",
      "104\n",
      "105\n",
      "106\n",
      "107\n",
      "108\n",
      "109\n"
     ]
    }
   ],
   "source": [
    "from itertools import islice\n",
    "for index, row in islice(raw_analyst_ratings_df.iterrows(), 100, 110):\n",
    "    print(row['Unnamed: 0'])"
   ]
  },
  {
   "cell_type": "code",
   "execution_count": 39,
   "id": "95518973",
   "metadata": {},
   "outputs": [],
   "source": [
    "raw_analyst_ratings_df['url'].iloc[0]\n",
    "import requests\n",
    "from bs4 import BeautifulSoup\n",
    "\n",
    "url = raw_analyst_ratings_df['url'].iloc[0]\n",
    "\n",
    "response = requests.get(url)"
   ]
  },
  {
   "cell_type": "code",
   "execution_count": 40,
   "id": "efc1071f-9401-4277-a6ff-a35157697a87",
   "metadata": {},
   "outputs": [],
   "source": [
    "len(response.text)\n",
    "\n",
    "if response.status_code == 200:\n",
    "    html_content = str(response.text)\n",
    "    # print(html_content)\n",
    "else:\n",
    "    print(\"Failed to retrieve the content\")"
   ]
  },
  {
   "cell_type": "code",
   "execution_count": 45,
   "id": "5e2bdb70",
   "metadata": {},
   "outputs": [
    {
     "name": "stdout",
     "output_type": "stream",
     "text": [
      "774054\n"
     ]
    },
    {
     "data": {
      "text/plain": [
       "19032"
      ]
     },
     "execution_count": 45,
     "metadata": {},
     "output_type": "execute_result"
    }
   ],
   "source": [
    "\n",
    "\n",
    "\n",
    "print(len(html_content))\n",
    "soup = BeautifulSoup(html_content, 'html.parser')\n",
    "# article_text = soup.find('meta')\n",
    "article_text = soup.find('body').get_text(separator=\"\\n\", strip=True)\n",
    "# title = soup.find(\"meta\", property=\"og:title\")\n",
    "# url = soup.find(\"meta\", property=\"og:url\")\n",
    "\n",
    "# print(title[\"content\"] if title else \"No meta title given\")\n",
    "# print(url[\"content\"] if url else \"No meta url given\")\n",
    "\n",
    "# print(article_text)\n",
    "len(article_text)"
   ]
  },
  {
   "cell_type": "code",
   "execution_count": 62,
   "id": "97d95d10-be94-4cf6-9c1c-495a06588bbe",
   "metadata": {},
   "outputs": [
    {
     "data": {
      "text/plain": [
       "\"Deutsch\\nEspañol\\nIndia\\nItaliano\\nFrançais\\nMy Account\\nMy Account\\nNotifications\\nOverview\\n+ New Watchlist\\nBenzinga Research\\nBenzinga Pro\\nLog In\\n-\\n-\\n-\\n-\\n-\\n-\\n-\\n-\\n-\\n-\\n-\\n-\\n-\\n-\\n-\\n-\\n-\\n-\\n-\\n-\\n-\\nGet Benzinga Pro\\nData & APIs\\nEvents\\nMarketfy\\nPremarket\\nBoost\\nAdvertise\\nContribute\\nDeutsch\\nEspañol\\nIndia\\nItaliano\\nFrançais\\nSign in\\nOur Services\\nNews\\nEarnings\\nGuidance\\nDividends\\nM&A\\nBuybacks\\nLegal\\nInterviews\\nManagement\\nOfferings\\nIPOs\\nInsider Trades\\nBiotech/FDA\\nPolitics\\nGovernment\\nHealthcare\\nSports\\nMarkets\\nPre-Market\\nAfter Hours\\nMovers\\nETFs\\nForex\\nCannabis\\nCommodities\\nOptions\\nBinary Options\\nBonds\\nFutures\\nCME Group\\nGlobal Economics\\nPreviews\\nSmall-Cap\\nReal Estate\\nCryptocurrency\\nPenny Stocks\\nDigital Securities\\nVolatility\\nRatings\\nAnalyst Color\\nDowngrades\\nUpgrades\\nInitiations\\nPrice Target\\nIdeas\\nTrade Ideas\\nCovey Trade Ideas\\nLong Ideas\\nShort Ideas\\nTechnicals\\nFrom The Press\\nJim Cramer\\nRumors\\nBest Stocks & ETFs\\nBest Penny Stocks\\nBest S&P 500 ETFs\\nBest Swing Trade Stocks\\nBest Blue Chip Stocks\\nBest High-Volume Penny Stocks\\nBest Small Cap ETFs\\nBest Stocks to Day Trade\\nBest REITs\\nYield\\nHow to Buy Corporate Bonds\\nHow to Buy Treasury Bonds\\nHow to Invest in Real Estate Online\\nMoney\\nCompare Online Brokers\\nStock Brokers\\nForex Brokers\\nFutures Brokers\\nCrypto Brokers\\nOptions Brokers\\nETF Brokers\\nMutual Fund Brokers\\nIndex Fund Brokers\\nBond Brokers\\nShort Selling Brokers\\nStock Apps\\nAll Broker Reviews\\nInsurance\\nAuto\\nHome\\nMedicare\\nLife\\nVision\\nDental\\nBusiness\\nPet\\nHealth\\nMotorcycle\\nRenters\\nWorkers Comp\\nTop Stocks\\nPenny Stocks\\nStocks Under $5\\nStocks Under $10\\nStocks Under $20\\nStocks Under $50\\nStocks Under $100\\nAlternative Investing\\nInvest in Art\\nInvest in Watches\\nInvest in Land\\nInvest in Real Estate\\nInvest in Wine\\nInvest in Gold\\nMortgages\\nRefinance\\nPurchase\\nFind a Mortgage Broker\\nConsumer\\nMoving\\nLiving\\nAlts\\nAlternative Investment Platforms\\nREITs Versus Crowdfunding\\nHow to Invest in Artwork\\nHow to Invest in Jewelry\\nBest Real Estate Crowdfunding Platforms\\nBest Alternative Investments\\nBest Alternative Investment Platforms\\nCrypto\\nGet Started\\nIs Bitcoin a Good Investment?\\nIs Ethereum a Good Investment?\\nWhat is Blockchain\\nBest Altcoins\\nHow to Buy Cryptocurrency?\\nDeFi\\nCrypto and DeFi 101\\nWhat is DeFi?\\nDecentralized Exchanges\\nBest DeFi Yield Farms\\nDigital Securities\\nNFTs\\nNFT Release Calendar\\nWhat is a Non-Fungible Token (NFT)?\\nHow to Buy Non-Fungible Tokens (NFTs)\\nCryptoPunks Watchlist\\nAre NFTs a Scam or a Digital Bubble?\\nBest In Crypto\\nBest Crypto Apps\\nBest Crypto Portfolio Trackers\\nBest Crypto Day Trading Strategies\\nBest Crypto IRA\\nBest Cryptocurrency Scanners\\nBest Business Crypto Accounts\\nBest Crypto Screeners\\nCannabis\\nCannabis Conference\\nNews\\nEarnings\\nInterviews\\nDeals\\nRegulations\\nPsychedelics\\nJobs\\nIdeas\\nTrade Ideas\\nCovey Trade Ideas\\nLong Ideas\\nShort Ideas\\nTechnicals\\nFrom The Press\\nJim Cramer\\nRumors\\nBest Stocks & ETFs\\nBest Penny Stocks\\nBest S&P 500 ETFs\\nBest Swing Trade Stocks\\nBest Blue Chip Stocks\\nBest High-Volume Penny Stocks\\nBest Small Cap ETFs\\nBest Stocks to Day Trade\\nBest REITs\\nYield\\nHow to Buy Corporate Bonds\\nHow to Buy Treasury Bonds\\nHow to Invest in Real Estate Online\\nMoney\\nCompare Online Brokers\\nStock Brokers\\nForex Brokers\\nFutures Brokers\\nCrypto Brokers\\nOptions Brokers\\nETF Brokers\\nMutual Fund Brokers\\nIndex Fund Brokers\\nBond Brokers\\nShort Selling Brokers\\nStock Apps\\nAll Broker Reviews\\nInsurance\\nAuto\\nHome\\nMedicare\\nLife\\nVision\\nDental\\nBusiness\\nPet\\nHealth\\nMotorcycle\\nRenters\\nWorkers Comp\\nTop Stocks\\nPenny Stocks\\nStocks Under $5\\nStocks Under $10\\nStocks Under $20\\nStocks Under $50\\nStocks Under $100\\nAlternative Investing\\nInvest in Art\\nInvest in Watches\\nInvest in Land\\nInvest in Real Estate\\nInvest in Wine\\nInvest in Gold\\nMortgages\\nRefinance\\nPurchase\\nFind a Mortgage Broker\\nConsumer\\nMoving\\nLiving\\nAlts\\nAlternative Investment Platforms\\nREITs Versus Crowdfunding\\nHow to Invest in Artwork\\nHow to Invest in Jewelry\\nBest Real Estate Crowdfunding Platforms\\nBest Alternative Investments\\nBest Alternative Investment Platforms\\nCrypto\\nGet Started\\nIs Bitcoin a Good Investment?\\nIs Ethereum a Good Investment?\\nWhat is Blockchain\\nBest Altcoins\\nHow to Buy Cryptocurrency?\\nDeFi\\nCrypto and DeFi 101\\nWhat is DeFi?\\nDecentralized Exchanges\\nBest DeFi Yield Farms\\nDigital Securities\\nNFTs\\nNFT Release Calendar\\nWhat is a Non-Fungible Token (NFT)?\\nHow to Buy Non-Fungible Tokens (NFTs)\\nCryptoPunks Watchlist\\nAre NFTs a Scam or a Digital Bubble?\\nBest In Crypto\\nBest Crypto Apps\\nBest Crypto Portfolio Trackers\\nBest Crypto Day Trading Strategies\\nBest Crypto IRA\\nBest Cryptocurrency Scanners\\nBest Business Crypto Accounts\\nBest Crypto Screeners\\nCannabis\\nCannabis Conference\\nNews\\nEarnings\\nInterviews\\nDeals\\nRegulations\\nPsychedelics\\nJobs\\nResearch\\nMy Stocks\\nTools\\nFree Benzinga Pro Trial\\nCalendars\\nAnalyst Ratings Calendar\\nConference Call Calendar\\nDividend Calendar\\nEarnings Calendar\\nEconomic Calendar\\nFDA Calendar\\nGuidance Calendar\\nIPO Calendar\\nM&A Calendar\\nSPAC Calendar\\nStock Split Calendar\\nTrade Ideas\\nFree Stock Reports\\nInsider Trades\\nTrade Idea Feed\\nAnalyst Ratings\\nUnusual Options Activity\\nHeatmaps\\nFree Newsletter\\nGovernment Trades\\nShort Interest\\nMost Shorted\\nLargest Increase\\nLargest Decrease\\nCalculators\\nMargin Calculator\\nForex Profit Calculator\\n100x Options Profit Calculator\\nRecent\\nMarkets\\n-\\n-\\n-\\n-\\n-\\n-\\n-\\n-\\n-\\n-\\n-\\n-\\n-\\n-\\n-\\n-\\n-\\n-\\n-\\n-\\n-\\nStocks That Hit 52-Week Highs On Friday\\nby\\nBenzinga Insights\\n, Benzinga Staff Writer\\nJune 5, 2020 10:30 AM\\n|\\n13 min read\\n|\\nShare Comments\\nLoading...\\nLoading...\\nDuring Friday's morning session, 115 companies made new 52-week highs.\\nNoteworthy Mentions:\\nApple\\nAAPL\\nwas the biggest firm by market cap to hit a new 52-week high.\\nEnergy Focus\\nEFOI\\nwas the smallest company when considering market cap to set a new 52-week high\\nDynagas LNG Partners\\nDLNG\\nsaw the most pronounced positive move, as it traded up 22.16% to hit its new 52-week high.\\nDuring the first half-hour of trading on Friday, the following stocks broke to new 52-week highs:\\nApple\\nAAPL\\nshares hit a yearly high of $328.00. The stock traded up 1.09% on the session.\\nHome Depot\\nHD\\nstock set a new 52-week high of $253.72 Friday morning. Over the session, the stock traded up 1.59%.\\nASML Holding\\nASML\\nshares were up 2.07% on Friday morning to hit a new 52-week high of $363.60.\\nDanaher\\nDHR\\nstock hit a yearly high price of $172.40. The stock was up 1.59% for the day.\\nRaytheon Technologies\\nRTX\\nshares hit a new 52-week high of $72.97. The stock traded up 6.49% on the session.\\nJD.com\\nJD\\nshares hit a new 52-week high of $59.20. The stock traded up 2.9% on the session.\\nEcolab\\nECL\\nshares reached a new 52-week high of $228.26 on Friday morning, moving up 2.55%.\\nAutodesk\\nADSK\\nstock made a new 52-week high of $231.26 Friday. The stock was up 2.08% for the day.\\nPinduoduo\\nPDD\\nshares reached a new 52-week high of $73.00 on Friday morning, moving up 9.01%.\\nAnalog Devices\\nADI\\nshares were up 3.14% on Friday to hit a new 52-week high of $127.39 for a change of up 3.14%.\\nRoper Technologies\\nROP\\nshares were up 0.73% on Friday morning to hit a new 52-week high of $409.24.\\nTAL Education\\nTAL\\nshares were up 3.13% on Friday morning to hit a new 52-week high of $65.76.\\nChunghwa Telecom\\nCHT\\nshares were up 0.69% on Friday to hit a new 52-week high of $38.15 for a change of up 0.69%.\\nAgilent Technologies\\nA\\nshares broke to a new 52-week high of $92.93 on Friday. Shares of the company traded up 0.93%.\\nSea\\nSE\\nshares set a new 52-week high of $88.37 on Friday, moving up 2.24%.\\nKLA\\nKLAC\\nstock on Friday broke to a yearly high of $196.15. Shares traded up 4.02%.\\nFresenius Medical Care\\nFMS\\nshares achieved a new 52-week high on Friday morning, hitting $44.30 with a daily change of up 1.55%.\\nOtis Worldwide\\nOTIS\\nstock on Friday broke to a yearly high of $57.98. Shares traded up 1.83%.\\nAmerisourceBergen\\nABC\\nshares hit $102.20 on Friday morning, setting a new 52-week high for a change of up 2.39%.\\nFirst Republic Bank\\nFRC\\nshares reached a new 52-week high of $124.78 on Friday morning, moving up 3.25%.\\nRockwell Automation\\nROK\\nshares were up 3.21% for the day, having made a 52-week high of $230.54.\\nSkyworks Solutions\\nSWKS\\nshares hit $133.97 on Friday morning, setting a new 52-week high for a change of up 3.93%.\\nCarrier Global\\nCARR\\nshares hit a yearly high of $24.36. The stock traded up 5.55% on the session.\\nEquifax\\nEFX\\nshares achieved a new 52-week high on Friday morning, hitting $179.65 with a daily change of up 1.01%.\\nPerkinElmer\\nPKI\\nshares set a new yearly high of $104.95 this morning. The stock was up 1.63% on the session.\\nCeridian HCM Holding\\nCDAY\\nshares hit a new 52-week high of $79.93. The stock traded up 6.31% on the session.\\nFactSet Research Systems\\nFDS\\nshares hit a yearly high of $317.66. The stock traded up 0.85% on the session.\\nApollo Global Management\\nAPO\\nshares set a new yearly high of $53.82 this morning. The stock was up 4.29% on the session.\\nNordson\\nNDSN\\nshares were up 3.56% on Friday morning to hit a new 52-week high of $199.15.\\nMonolithic Power Systems\\nMPWR\\nshares were up 3.3% on Friday morning to hit a new 52-week high of $238.27.\\nRPM International\\nRPM\\nshares hit a new 52-week high of $79.59. The stock traded up 1.77% on the session.\\nIPG Photonics\\nIPGP\\nshares hit a new 52-week high of $168.48. The stock traded up 3.98% on the session.\\nReynolds Consumer\\nREYN\\nshares achieved a new 52-week high on Friday morning, hitting $35.99 with a daily change of up 4.24%.\\nEntegris\\nENTG\\nstock made a new 52-week high of $64.50 Friday. The stock was up 3.02% for the day.\\nHowmet Aerospace\\nHWM\\nshares hit $17.25 on Friday morning, setting a new 52-week high for a change of up 7.53%.\\nNew York Times\\nNYT\\nshares were up 1.99% on Friday morning to hit a new 52-week high of $41.61.\\nDeckers Outdoor\\nDECK\\nstock set a new 52-week high of $218.19 Friday morning. Over the session, the stock traded up 3.23%.\\nClearway Energy\\nCWEN\\nshares were up 1.92% for the day, having made a 52-week high of $23.58.\\nThor Industries\\nTHO\\nshares set a new 52-week high of $103.99 on Friday, moving down 1.07%.\\nDescartes Systems Gr\\nDSGX\\nshares reached a new 52-week high of $50.07 on Friday morning, moving up 1.67%.\\nBrunswick\\nBC\\nstock hit a yearly high price of $67.33. The stock was up 2.06% for the day.\\nAppFolio\\nAPPF\\nshares set a new 52-week high of $177.50 on Friday, moving up 3.67%.\\nVertiv Holdings\\nVRT\\nshares set a new 52-week high of $14.42 on Friday, moving up 3.82%.\\nSimpson Manufacturing Co\\nSSD\\nshares hit $93.49 on Friday morning, setting a new 52-week high for a change of up 4.9%.\\nTopBuild\\nBLD\\nshares hit a yearly high of $128.51. The stock traded up 5.04% on the session.\\nII-VI\\nIIVI\\nstock set a new 52-week high of $50.38 Friday morning. Over the session, the stock traded up 3.69%.\\nPower Integrations\\nPOWI\\nstock hit a yearly high price of $120.52. The stock was up 3.28% for the day.\\nLattice Semiconductor\\nLSCC\\nstock hit a yearly high price of $28.26. The stock was up 2.81% for the day.\\nBiohaven Pharmaceutical\\nBHVN\\nshares broke to $69.54 on Friday, setting a new 52-week high with a change of up 2.61%.\\nKinsale Capital Group\\nKNSL\\nshares broke to a new 52-week high of $159.98 on Friday. Shares of the company traded up 2.79%.\\nSaia\\nSAIA\\nstock made a new 52-week high of $119.29 Friday. The stock was up 2.36% for the day.\\nAlarm.com Holdings\\nALRM\\nstock on Friday broke to a yearly high of $57.46. Shares traded up 2.66%.\\nLCI Indus\\nLCII\\nshares were up 5.2% for the day, having made a 52-week high of $116.70.\\nPenn National Gaming\\nPENN\\nshares hit a new 52-week high of $40.14. The stock traded up 2.44% on the session.\\nRedfin\\nRDFN\\nstock set a new 52-week high of $37.24 Friday morning. Over the session, the stock traded up 7.92%.\\nMACOM Technology\\nMTSI\\nshares were up 3.18% for the day, having made a 52-week high of $34.66.\\nGoosehead Insurance\\nGSHD\\nshares hit a new 52-week high of $72.75. The stock traded up 4.83% on the session.\\nAcushnet Holdings\\nGOLF\\nshares hit $37.12 on Friday morning, setting a new 52-week high for a change of up 2.47%.\\nFox Factory Hldg\\nFOXF\\nshares set a new yearly high of $87.98 this morning. The stock was up 8.47% on the session.\\nPJT Partners\\nPJT\\nshares set a new 52-week high of $57.87 on Friday, moving up 2.87%.\\nStaar Surgical\\nSTAA\\nstock on Friday broke to a yearly high of $44.87. Shares traded up 2.85%.\\nAPi Gr\\nAPG\\nstock on Friday broke to a yearly high of $13.00. Shares traded up 1.17%.\\nLigand Pharmaceuticals\\nLGND\\nshares were up 2.86% on Friday to hit a new 52-week high of $124.97 for a change of up 2.86%.\\nWinnebago Industries\\nWGO\\nstock set a new 52-week high of $65.80 Friday morning. Over the session, the stock traded up 2.02%.\\nPalomar Hldgs\\nPLMR\\nshares were up 4.65% for the day, having made a 52-week high of $87.07.\\nAeroVironment\\nAVAV\\nstock set a new 52-week high of $79.37 Friday morning. Over the session, the stock traded up 2.2%.\\nFormula Systems (1985)\\nFORTY\\nshares reached a new 52-week high of $81.06 on Friday morning, moving up 1.58%.\\nOffice Depot\\nODP\\nshares set a new yearly high of $2.88 this morning. The stock was up 5.76% on the session.\\nAstec Industries\\nASTE\\nshares hit a yearly high of $47.48. The stock traded up 3.82% on the session.\\nAtlas Air Worldwide Hldgs\\nAAWW\\nshares broke to a new 52-week high of $47.70 on Friday. Shares of the company traded up 0.39%.\\nSprout Social\\nSPT\\nshares were up 2.36% on Friday morning to hit a new 52-week high of $32.24.\\nFreedom Holding\\nFRHC\\nstock set a new 52-week high of $18.50 Friday morning. Over the session, the stock traded up 3.56%.\\nCamping World Holdings\\nCWH\\nstock set a new 52-week high of $24.89 Friday morning. Over the session, the stock traded up 1.59%.\\nBlackRock Science\\nBST\\nstock on Friday broke to a yearly high of $36.74. Shares traded up 0.86%.\\nINTL FCStone\\nINTL\\nshares set a new yearly high of $55.17 this morning. The stock was up 3.94% on the session.\\nChampionX\\nCHX\\nshares hit a yearly high of $12.53. The stock traded up 9.15% on the session.\\nMalibu Boats\\nMBUU\\nshares hit $56.80 on Friday morning, setting a new 52-week high for a change of up 0.37%.\\nReplimune Group\\nREPL\\nshares hit a new 52-week high of $24.00. The stock traded down 1.4% on the session.\\nCEVA\\nCEVA\\nstock hit a yearly high price of $37.95. The stock was up 2.21% for the day.\\nCalix\\nCALX\\nshares broke to $14.90 on Friday, setting a new 52-week high with a change of up 4.18%.\\nNiu Technologies\\nNIU\\nshares set a new yearly high of $12.38 this morning. The stock was up 3.46% on the session.\\neXp World Holdings\\nEXPI\\nshares broke to $12.26 on Friday, setting a new 52-week high with a change of down 0.46%.\\nnLight\\nLASR\\nshares broke to $26.48 on Friday, setting a new 52-week high with a change of up 7.29%.\\nCollier Creek Hldgs\\nCCH\\nstock set a new 52-week high of $12.41 Friday morning. Over the session, the stock traded up 11.55%.\\nDigital Turbine\\nAPPS\\nshares hit a yearly high of $9.41. The stock traded up 3.24% on the session.\\nAmerican Software\\nAMSWA\\nshares hit a new 52-week high of $21.38. The stock traded up 1.44% on the session.\\nFutureFuel\\nFF\\nstock hit a yearly high price of $14.45. The stock was up 3.01% for the day.\\nVapotherm\\nVAPO\\nshares reached a new 52-week high of $31.80 on Friday morning, moving up 3.58%.\\nClearwater Paper\\nCLW\\nstock on Friday broke to a yearly high of $33.63. Shares traded up 0.58%.\\nResources Connection\\nRGP\\nstock set a new 52-week high of $12.26 Friday morning. Over the session, the stock traded up 3.65%.\\nTekla World Healthcare\\nTHW\\nshares broke to a new 52-week high of $14.73 on Friday. Shares of the company traded up 1.1%.\\nFarmland Partners\\nFPI\\nshares broke to $7.47 on Friday, setting a new 52-week high with a change of up 0.27%.\\nGladstone Land\\nLAND\\nshares were up 2.37% on Friday morning to hit a new 52-week high of $15.67.\\nSportsman's Warehouse\\nSPWH\\nstock on Friday broke to a yearly high of $13.74. Shares traded up 7.96%.\\nAeglea BioTherapeutics\\nAGLE\\nshares were up 4.03% on Friday to hit a new 52-week high of $9.65 for a change of up 4.03%.\\nTuscan Holdings\\nTHCA\\nshares hit a new 52-week high of $10.31.\\nARYA Sciences Acquisition\\nARYA\\nshares were up 3.54% on Friday morning to hit a new 52-week high of $14.50.\\nMastech Digital\\nMHH\\nshares were up 5.9% on Friday to hit a new 52-week high of $21.08 for a change of up 5.9%.\\nOneWater Marine\\nONEW\\nshares broke to $19.39 on Friday, setting a new 52-week high with a change of up 3.92%.\\nTortoise Midstream Energy\\nNTG\\nshares reached a new 52-week high of $23.22 on Friday morning, moving up 6.15%.\\nFennec Pharmaceuticals\\nFENC\\nshares hit $8.65 on Friday morning, setting a new 52-week high for a change of up 10.56%.\\nAcacia Research\\nACTG\\nshares hit a yearly high of $3.70. The stock traded up 4.08% on the session.\\nNabors Industries\\nNBR\\nshares set a new 52-week high of $53.53 on Friday, moving up 20.17%.\\nTHL Credit Senior Loan\\nFSLF\\nshares set a new yearly high of $12.71 this morning. The stock was up 1.48% on the session.\\nAtomera\\nATOM\\nshares were up 4.17% for the day, having made a 52-week high of $9.84.\\nGoldfield\\nGV\\nshares were up 2.28% for the day, having made a 52-week high of $4.15.\\nMTBC\\nMTBC\\nshares were up 2.04% for the day, having made a 52-week high of $7.79.\\nWayside Technology Group\\nWSTG\\nshares reached a new 52-week high of $24.50 on Friday morning, moving up 0.97%.\\nDynagas LNG Partners\\nDLNG\\nstock set a new 52-week high of $2.63 Friday morning. Over the session, the stock traded up 22.16%.\\nFTS International\\nFTSI\\nshares broke to $8.96 on Friday, setting a new 52-week high with a change of up 14.46%.\\nTortoise Pipeline\\nTTP\\nshares hit a yearly high of $18.66. The stock traded up 4.29% on the session.\\nUS Global Investors\\nGROW\\nshares hit a new 52-week high of $2.96. The stock traded up 9.85% on the session.\\nTortoise Energy\\nNDP\\nshares broke to $13.85 on Friday, setting a new 52-week high with a change of up 6.34%.\\nEkso Bionics Holdings\\nEKSO\\nshares set a new yearly high of $5.24 this morning. The stock was down 1.07% on the session.\\nEnergy Focus\\nEFOI\\nstock set a new 52-week high of $1.21 Friday morning. Over the session, the stock traded up 2.14%.\\nBenzinga will continue to keep market participants updated about these equities going forward. Stay tuned.\\nLoading...\\nLoading...\\n© 2024 Benzinga.com. Benzinga does not provide investment advice. All rights reserved.\\nPosted In:\\nNews\\nPenny Stocks\\nIntraday Update\\nMarkets\\nMovers\\nTrading Ideas\\n52 Week Highs\\n52-Week Highs\\nBiotechnology\\nEnergy\\nHealth Care\\nHealth Care Equipment\\nInformation Technology\\nOil & Gas Drilling\\nSemiconductors\\nWe simplify the market for smarter investing\\nTrade confidently with insights and alerts from analyst ratings, free reports and breaking news that affects the stocks you care about.\\nJoin Now: Free!\\nAlready a member?\\nSign in\\nLoading...\\nPopular Channels\\nPreMarket Prep\\nPress Releases\\nAnalyst Ratings\\nNews\\nOptions\\nETFs\\nTools & Features\\nReal Time Feed\\nPublic RSS Feeds\\nSubmit News Tips\\nBlog\\nEmbeddable Finance Widgets & Tools\\nBenzinga Catalyst\\nPartners & Contributors\\nAffiliate Program\\nContributor Portal\\nLicensing & Syndication\\nSponsored Content\\nAdvertise With Us\\nLead Generation & SEO\\nAbout Benzinga\\nAbout Us\\nCareers\\nIn The News\\nEvents\\nContact Us\\nTerms & Conditions\\nDo Not Sell My Personal Data/Privacy Policy\\nDisclaimer\\nService Status\\nSitemap\\n©\\n2024\\nBenzinga | All Rights Reserved\""
      ]
     },
     "execution_count": 62,
     "metadata": {},
     "output_type": "execute_result"
    }
   ],
   "source": [
    "soup.find('body').get_text(separator=\"\\n\", strip=True)"
   ]
  },
  {
   "cell_type": "code",
   "execution_count": 63,
   "id": "e18d237c-77a0-4a90-a96f-7bf6fd5d8448",
   "metadata": {},
   "outputs": [],
   "source": [
    "body_ = soup.find('body').get_text(separator=\"\\n\", strip=True)\n",
    "with open('body.txt', 'w') as wf:\n",
    "    wf.write(body_)\n",
    "    "
   ]
  },
  {
   "cell_type": "code",
   "execution_count": 85,
   "id": "385e44fe-3651-4d76-9bf0-a355678be1b7",
   "metadata": {},
   "outputs": [],
   "source": [
    "main_content = str(soup.find(\"div\", {\"class\": \"main-content-container\"}))#.replace(\"\\n\",\"\")\n",
    "with open('main_content.txt', 'w') as wf:\n",
    "    wf.write(main_content)\n",
    "    "
   ]
  },
  {
   "cell_type": "code",
   "execution_count": 79,
   "id": "b05835b2-2de2-42bf-9a9f-7134d970bb6b",
   "metadata": {},
   "outputs": [],
   "source": [
    "x = str(main_content)\n",
    "soup1 = BeautifulSoup(x, 'html.parser')"
   ]
  },
  {
   "cell_type": "code",
   "execution_count": 81,
   "id": "72e36869-fd7d-438a-b765-5410aabcf2c8",
   "metadata": {},
   "outputs": [],
   "source": [
    "continte_text = soup1.get_text(separator=\"\\n\", strip=True)\n",
    "with open('content_text.txt', 'w') as wf:\n",
    "    wf.write(str(continte_text))"
   ]
  },
  {
   "cell_type": "code",
   "execution_count": null,
   "id": "a328038e",
   "metadata": {},
   "outputs": [],
   "source": [
    "have stock news and stock data (open, close amount) of same time period\n",
    "\n",
    "\n",
    "get company-wise stock news and stock data"
   ]
  },
  {
   "cell_type": "code",
   "execution_count": null,
   "id": "771197ff",
   "metadata": {},
   "outputs": [],
   "source": [
    "Create company-wise news historical data\n",
    "Buid a dataset with following features: date, ticker symbol, opening price, the highest price of the day, lowest price of the day, closing price, relative strength index (RSI), exponential moving average (EMCA), simple moving average (SMA), moving average convergence divergence (MACD), and the top news headline associated with the ticker symbol and date\n",
    "Experiment with different modelling strategies to predict stock going high or low (classification)\n",
    "\n"
   ]
  },
  {
   "cell_type": "code",
   "execution_count": null,
   "id": "3fc6a095",
   "metadata": {},
   "outputs": [],
   "source": [
    "AAPL 2016-2020 \n",
    "\n"
   ]
  },
  {
   "cell_type": "code",
   "execution_count": 13,
   "id": "6987a167",
   "metadata": {},
   "outputs": [
    {
     "name": "stdout",
     "output_type": "stream",
     "text": [
      "{'h5', 'em', 'input', 'a', 'br', 'footer', 'style', 'html', 'title', 'hr', 'li', 'svg', 'path', 'button', 'head', 'img', 'h1', 'body', 'strong', 'script', 'noscript', 'div', 'span', 'link', 'meta', 'p', 'h3', 'ul'}\n"
     ]
    }
   ],
   "source": [
    "\n",
    "# To get a list of all tags\n",
    "all_tags = [tag.name for tag in soup.find_all(True)]\n",
    "\n",
    "# Print all unique tags\n",
    "print(set(all_tags))"
   ]
  },
  {
   "cell_type": "code",
   "execution_count": 4,
   "id": "6b86283f",
   "metadata": {
    "scrolled": true
   },
   "outputs": [],
   "source": [
    "\n",
    "raw_partner_headlines_df = pd.read_csv('raw_partner_headlines.csv')"
   ]
  },
  {
   "cell_type": "code",
   "execution_count": 5,
   "id": "52c89da1",
   "metadata": {
    "scrolled": true
   },
   "outputs": [
    {
     "data": {
      "text/html": [
       "<div>\n",
       "<style scoped>\n",
       "    .dataframe tbody tr th:only-of-type {\n",
       "        vertical-align: middle;\n",
       "    }\n",
       "\n",
       "    .dataframe tbody tr th {\n",
       "        vertical-align: top;\n",
       "    }\n",
       "\n",
       "    .dataframe thead th {\n",
       "        text-align: right;\n",
       "    }\n",
       "</style>\n",
       "<table border=\"1\" class=\"dataframe\">\n",
       "  <thead>\n",
       "    <tr style=\"text-align: right;\">\n",
       "      <th></th>\n",
       "      <th>Unnamed: 0</th>\n",
       "      <th>headline</th>\n",
       "      <th>url</th>\n",
       "      <th>publisher</th>\n",
       "      <th>date</th>\n",
       "      <th>stock</th>\n",
       "    </tr>\n",
       "  </thead>\n",
       "  <tbody>\n",
       "    <tr>\n",
       "      <th>0</th>\n",
       "      <td>2</td>\n",
       "      <td>Agilent Technologies Announces Pricing of $5……...</td>\n",
       "      <td>http://www.gurufocus.com/news/1153187/agilent-...</td>\n",
       "      <td>GuruFocus</td>\n",
       "      <td>2020-06-01 00:00:00</td>\n",
       "      <td>A</td>\n",
       "    </tr>\n",
       "    <tr>\n",
       "      <th>1</th>\n",
       "      <td>3</td>\n",
       "      <td>Agilent (A) Gears Up for Q2 Earnings: What's i...</td>\n",
       "      <td>http://www.zacks.com/stock/news/931205/agilent...</td>\n",
       "      <td>Zacks</td>\n",
       "      <td>2020-05-18 00:00:00</td>\n",
       "      <td>A</td>\n",
       "    </tr>\n",
       "    <tr>\n",
       "      <th>2</th>\n",
       "      <td>4</td>\n",
       "      <td>J.P. Morgan Asset Management Announces Liquida...</td>\n",
       "      <td>http://www.gurufocus.com/news/1138923/jp-morga...</td>\n",
       "      <td>GuruFocus</td>\n",
       "      <td>2020-05-15 00:00:00</td>\n",
       "      <td>A</td>\n",
       "    </tr>\n",
       "    <tr>\n",
       "      <th>3</th>\n",
       "      <td>5</td>\n",
       "      <td>Pershing Square Capital Management, L.P. Buys ...</td>\n",
       "      <td>http://www.gurufocus.com/news/1138704/pershing...</td>\n",
       "      <td>GuruFocus</td>\n",
       "      <td>2020-05-15 00:00:00</td>\n",
       "      <td>A</td>\n",
       "    </tr>\n",
       "    <tr>\n",
       "      <th>4</th>\n",
       "      <td>6</td>\n",
       "      <td>Agilent Awards Trilogy Sciences with a Golden ...</td>\n",
       "      <td>http://www.gurufocus.com/news/1134012/agilent-...</td>\n",
       "      <td>GuruFocus</td>\n",
       "      <td>2020-05-12 00:00:00</td>\n",
       "      <td>A</td>\n",
       "    </tr>\n",
       "    <tr>\n",
       "      <th>...</th>\n",
       "      <td>...</td>\n",
       "      <td>...</td>\n",
       "      <td>...</td>\n",
       "      <td>...</td>\n",
       "      <td>...</td>\n",
       "      <td>...</td>\n",
       "    </tr>\n",
       "    <tr>\n",
       "      <th>1845554</th>\n",
       "      <td>1849874</td>\n",
       "      <td>Consumer Cyclical Sector Wrap</td>\n",
       "      <td>https://www.benzinga.com/content/12/08/2846030...</td>\n",
       "      <td>webmaster</td>\n",
       "      <td>2012-08-20 00:00:00</td>\n",
       "      <td>ZX</td>\n",
       "    </tr>\n",
       "    <tr>\n",
       "      <th>1845555</th>\n",
       "      <td>1849875</td>\n",
       "      <td>Consumer Cyclical Sector Wrap</td>\n",
       "      <td>https://www.benzinga.com/content/12/07/2767124...</td>\n",
       "      <td>webmaster</td>\n",
       "      <td>2012-07-23 00:00:00</td>\n",
       "      <td>ZX</td>\n",
       "    </tr>\n",
       "    <tr>\n",
       "      <th>1845556</th>\n",
       "      <td>1849876</td>\n",
       "      <td>Zacks #5 Rank Additions for Monday - Tale of t...</td>\n",
       "      <td>http://www.zacks.com/stock/news/73497/here-are...</td>\n",
       "      <td>Zacks</td>\n",
       "      <td>2012-04-23 00:00:00</td>\n",
       "      <td>ZX</td>\n",
       "    </tr>\n",
       "    <tr>\n",
       "      <th>1845557</th>\n",
       "      <td>1849877</td>\n",
       "      <td>4 Stock Strategies From Wall Street: Feb. 9 (U...</td>\n",
       "      <td>http://www.thestreet.com/story/11409053/1/4-st...</td>\n",
       "      <td>TheStreet.Com</td>\n",
       "      <td>2012-02-09 00:00:00</td>\n",
       "      <td>ZX</td>\n",
       "    </tr>\n",
       "    <tr>\n",
       "      <th>1845558</th>\n",
       "      <td>1849878</td>\n",
       "      <td>4 Stock Strategies From Wall Street: Feb. 9</td>\n",
       "      <td>https://www.benzinga.com/content/thestreet-com...</td>\n",
       "      <td>webmaster</td>\n",
       "      <td>2012-02-09 00:00:00</td>\n",
       "      <td>ZX</td>\n",
       "    </tr>\n",
       "  </tbody>\n",
       "</table>\n",
       "<p>1845559 rows × 6 columns</p>\n",
       "</div>"
      ],
      "text/plain": [
       "         Unnamed: 0                                           headline   \n",
       "0                 2  Agilent Technologies Announces Pricing of $5……...  \\\n",
       "1                 3  Agilent (A) Gears Up for Q2 Earnings: What's i...   \n",
       "2                 4  J.P. Morgan Asset Management Announces Liquida...   \n",
       "3                 5  Pershing Square Capital Management, L.P. Buys ...   \n",
       "4                 6  Agilent Awards Trilogy Sciences with a Golden ...   \n",
       "...             ...                                                ...   \n",
       "1845554     1849874                      Consumer Cyclical Sector Wrap   \n",
       "1845555     1849875                      Consumer Cyclical Sector Wrap   \n",
       "1845556     1849876  Zacks #5 Rank Additions for Monday - Tale of t...   \n",
       "1845557     1849877  4 Stock Strategies From Wall Street: Feb. 9 (U...   \n",
       "1845558     1849878        4 Stock Strategies From Wall Street: Feb. 9   \n",
       "\n",
       "                                                       url      publisher   \n",
       "0        http://www.gurufocus.com/news/1153187/agilent-...      GuruFocus  \\\n",
       "1        http://www.zacks.com/stock/news/931205/agilent...          Zacks   \n",
       "2        http://www.gurufocus.com/news/1138923/jp-morga...      GuruFocus   \n",
       "3        http://www.gurufocus.com/news/1138704/pershing...      GuruFocus   \n",
       "4        http://www.gurufocus.com/news/1134012/agilent-...      GuruFocus   \n",
       "...                                                    ...            ...   \n",
       "1845554  https://www.benzinga.com/content/12/08/2846030...      webmaster   \n",
       "1845555  https://www.benzinga.com/content/12/07/2767124...      webmaster   \n",
       "1845556  http://www.zacks.com/stock/news/73497/here-are...          Zacks   \n",
       "1845557  http://www.thestreet.com/story/11409053/1/4-st...  TheStreet.Com   \n",
       "1845558  https://www.benzinga.com/content/thestreet-com...      webmaster   \n",
       "\n",
       "                        date stock  \n",
       "0        2020-06-01 00:00:00     A  \n",
       "1        2020-05-18 00:00:00     A  \n",
       "2        2020-05-15 00:00:00     A  \n",
       "3        2020-05-15 00:00:00     A  \n",
       "4        2020-05-12 00:00:00     A  \n",
       "...                      ...   ...  \n",
       "1845554  2012-08-20 00:00:00    ZX  \n",
       "1845555  2012-07-23 00:00:00    ZX  \n",
       "1845556  2012-04-23 00:00:00    ZX  \n",
       "1845557  2012-02-09 00:00:00    ZX  \n",
       "1845558  2012-02-09 00:00:00    ZX  \n",
       "\n",
       "[1845559 rows x 6 columns]"
      ]
     },
     "execution_count": 5,
     "metadata": {},
     "output_type": "execute_result"
    }
   ],
   "source": [
    "raw_partner_headlines_df"
   ]
  },
  {
   "cell_type": "code",
   "execution_count": 6,
   "id": "4bdec989",
   "metadata": {},
   "outputs": [],
   "source": [
    "\n",
    "analyst_ratings_processed_df = pd.read_csv('analyst_ratings_processed.csv')"
   ]
  },
  {
   "cell_type": "code",
   "execution_count": 20,
   "id": "3846717e",
   "metadata": {},
   "outputs": [
    {
     "data": {
      "text/plain": [
       "0          2020-06-05 10:30:00-04:00\n",
       "1          2020-06-03 10:45:00-04:00\n",
       "2          2020-05-26 04:30:00-04:00\n",
       "3          2020-05-22 12:45:00-04:00\n",
       "4          2020-05-22 11:38:00-04:00\n",
       "                     ...            \n",
       "1400464    2011-08-29 10:41:00-04:00\n",
       "1400465    2011-06-22 16:44:00-04:00\n",
       "1400466    2011-06-21 08:26:00-04:00\n",
       "1400467    2011-06-21 05:59:00-04:00\n",
       "1400468    2011-05-12 09:36:00-04:00\n",
       "Name: date, Length: 1400469, dtype: object"
      ]
     },
     "execution_count": 20,
     "metadata": {},
     "output_type": "execute_result"
    }
   ],
   "source": [
    "analyst_ratings_processed_df['date']"
   ]
  },
  {
   "cell_type": "code",
   "execution_count": null,
   "id": "1cdc0b30",
   "metadata": {},
   "outputs": [],
   "source": []
  }
 ],
 "metadata": {
  "kernelspec": {
   "display_name": "Python 3 (ipykernel)",
   "language": "python",
   "name": "python3"
  },
  "language_info": {
   "codemirror_mode": {
    "name": "ipython",
    "version": 3
   },
   "file_extension": ".py",
   "mimetype": "text/x-python",
   "name": "python",
   "nbconvert_exporter": "python",
   "pygments_lexer": "ipython3",
   "version": "3.10.14"
  }
 },
 "nbformat": 4,
 "nbformat_minor": 5
}
