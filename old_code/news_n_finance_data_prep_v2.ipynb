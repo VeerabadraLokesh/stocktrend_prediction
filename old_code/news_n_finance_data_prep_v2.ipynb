{
 "cells": [
  {
   "cell_type": "code",
   "execution_count": null,
   "id": "6289d5e7",
   "metadata": {},
   "outputs": [],
   "source": [
    "\n",
    "import numpy as np\n",
    "import random\n",
    "import pandas as pd \n",
    "from pylab import mpl, plt\n",
    "%matplotlib inline\n",
    "\n",
    "from datetime import datetime\n",
    "import math, time\n",
    "import itertools\n",
    "import datetime\n",
    "from operator import itemgetter\n",
    "from sklearn.metrics import mean_squared_error\n",
    "from sklearn.preprocessing import MinMaxScaler\n",
    "from math import sqrt\n",
    "import torch\n",
    "import torch.nn as nn\n",
    "from torch.autograd import Variable\n",
    "\n",
    "\n",
    "df = pd.read_csv('news_n_finance_data.csv', header=[0, 1], skipinitialspace=True)"
   ]
  },
  {
   "cell_type": "code",
   "execution_count": null,
   "id": "c137f359",
   "metadata": {},
   "outputs": [],
   "source": [
    "df.columns"
   ]
  },
  {
   "cell_type": "code",
   "execution_count": null,
   "id": "338ec20f",
   "metadata": {},
   "outputs": [],
   "source": [
    "# df[('Close', 'AAPL')].plot(figsize=(10, 6), subplots=True);"
   ]
  },
  {
   "cell_type": "code",
   "execution_count": null,
   "id": "04586dbd",
   "metadata": {},
   "outputs": [],
   "source": [
    "\n",
    "with open('sp500_tickers.txt', 'r') as file:\n",
    "    sp500_tickers = file.read()\n",
    "\n",
    "sp500_tickers = list(filter(None, sp500_tickers.split('\\n')))"
   ]
  },
  {
   "cell_type": "code",
   "execution_count": null,
   "id": "102675a9",
   "metadata": {},
   "outputs": [],
   "source": [
    "for comp in sp500_tickers:\n",
    "    temp_12 = df[('Close',    comp)].ewm(span=12, adjust=False).mean()\n",
    "    temp_26 = df[('Close',    comp)].ewm(span=26, adjust=False).mean()\n",
    "    df[('MACD',    comp)] = temp_12 - temp_26"
   ]
  },
  {
   "cell_type": "code",
   "execution_count": null,
   "id": "38fd38d1",
   "metadata": {},
   "outputs": [],
   "source": [
    "df[df['Ticker']=='AAPL']"
   ]
  },
  {
   "cell_type": "code",
   "execution_count": null,
   "id": "84b9aab8",
   "metadata": {},
   "outputs": [],
   "source": [
    "numerical_cols = ['Close', 'Open', 'Adj Close', 'High', 'Low', 'Volume','RSI', 'EMA', 'SMA', 'MACD']"
   ]
  },
  {
   "cell_type": "code",
   "execution_count": null,
   "id": "fe3e7e8b",
   "metadata": {},
   "outputs": [],
   "source": [
    "# df=df.fillna(method='ffill')\n",
    "\n",
    "columns_to_normalize = []\n",
    "for col in numerical_cols:\n",
    "    for comp in sp500_tickers:\n",
    "        columns_to_normalize.append((col, comp))\n",
    "        \n",
    "        "
   ]
  },
  {
   "cell_type": "code",
   "execution_count": null,
   "id": "de7e6604",
   "metadata": {},
   "outputs": [],
   "source": [
    "# columns_to_normalize"
   ]
  },
  {
   "cell_type": "code",
   "execution_count": null,
   "id": "8e51483b",
   "metadata": {},
   "outputs": [],
   "source": [
    "# from sklearn.preprocessing import StandardScaler\n",
    "\n",
    "\n",
    "# scaler = StandardScaler()\n",
    "# df[columns_to_normalize] = scaler.fit_transform(df[columns_to_normalize])\n"
   ]
  },
  {
   "cell_type": "code",
   "execution_count": null,
   "id": "531c5ddf",
   "metadata": {},
   "outputs": [],
   "source": []
  },
  {
   "cell_type": "code",
   "execution_count": null,
   "id": "d2683d97",
   "metadata": {},
   "outputs": [],
   "source": []
  },
  {
   "cell_type": "code",
   "execution_count": null,
   "id": "3514e0d6",
   "metadata": {},
   "outputs": [],
   "source": []
  },
  {
   "cell_type": "code",
   "execution_count": null,
   "id": "c9980511",
   "metadata": {},
   "outputs": [],
   "source": [
    "# df.columns"
   ]
  },
  {
   "cell_type": "code",
   "execution_count": null,
   "id": "dc53ac18",
   "metadata": {
    "scrolled": true
   },
   "outputs": [],
   "source": [
    "# df"
   ]
  },
  {
   "cell_type": "code",
   "execution_count": null,
   "id": "8b923766",
   "metadata": {},
   "outputs": [],
   "source": [
    "companies = ['AAPL','META', 'GOOGL','AMZN', 'MSFT']\n",
    "\n",
    "\n",
    "apple_df = pd.DataFrame(columns=numerical_cols)\n",
    "\n",
    "for col in numerical_cols:\n",
    "    apple_df[col] = df[(col, 'AAPL')]\n",
    "\n",
    "apple_df['News'] = df[('News', 'AAPL')]\n",
    "apple_df['Date'] = df[('Date', 'Unnamed: 0_level_1')]"
   ]
  },
  {
   "cell_type": "code",
   "execution_count": null,
   "id": "eb7fa68d",
   "metadata": {},
   "outputs": [],
   "source": [
    "apple_df = apple_df.dropna(subset='News')"
   ]
  },
  {
   "cell_type": "code",
   "execution_count": null,
   "id": "40b74f17",
   "metadata": {},
   "outputs": [],
   "source": [
    "company = 'AMZN'\n",
    "\n",
    "company_df = pd.DataFrame(columns=numerical_cols)\n",
    "\n",
    "for col in numerical_cols:\n",
    "    company_df[col] = df[(col, company)]\n",
    "\n",
    "company_df['News'] = df[('News', company)]\n",
    "company_df['Date'] = df[('Date', 'Unnamed: 0_level_1')]\n",
    "company_df = company_df.dropna(subset='News')"
   ]
  },
  {
   "cell_type": "code",
   "execution_count": null,
   "id": "14c07630",
   "metadata": {},
   "outputs": [],
   "source": [
    "company_df.shape"
   ]
  },
  {
   "cell_type": "code",
   "execution_count": null,
   "id": "42f7bb36",
   "metadata": {},
   "outputs": [],
   "source": [
    "\n",
    "# def load_data(stock, look_back):\n",
    "#     data_raw = stock.values # convert to numpy array\n",
    "#     data = []\n",
    "    \n",
    "#     # create all possible sequences of length look_back\n",
    "#     for index in range(len(data_raw) - look_back): \n",
    "#         data.append(data_raw[index: index + look_back])\n",
    "    \n",
    "#     data = np.array(data);\n",
    "#     test_set_size = int(np.round(0.2*data.shape[0]));\n",
    "#     train_set_size = data.shape[0] - (test_set_size);\n",
    "    \n",
    "#     x_train = data[:train_set_size,:-1,:]\n",
    "#     y_train = data[:train_set_size,-1,:]\n",
    "    \n",
    "#     x_test = data[train_set_size:,:-1]\n",
    "#     y_test = data[train_set_size:,-1,:]\n",
    "    \n",
    "#     return [x_train, y_train, x_test, y_test]\n",
    "\n",
    "\n",
    "# look_back = 50 # choose sequence length\n",
    "# x_train, y_train, x_test, y_test = load_data(df, look_back)\n",
    "# print('x_train.shape = ',x_train.shape)\n",
    "# print('y_train.shape = ',y_train.shape)\n",
    "# print('x_test.shape = ',x_test.shape)\n",
    "# print('y_test.shape = ',y_test.shape)"
   ]
  },
  {
   "cell_type": "code",
   "execution_count": null,
   "id": "df12cca9",
   "metadata": {},
   "outputs": [],
   "source": [
    "len(numerical_cols)"
   ]
  },
  {
   "cell_type": "code",
   "execution_count": null,
   "id": "28dc0786",
   "metadata": {},
   "outputs": [],
   "source": [
    "from sentence_transformers import SentenceTransformer\n",
    "\n",
    "model_id = \"mrm8488/deberta-v3-ft-financial-news-sentiment-analysis\"\n",
    "\n",
    "model = SentenceTransformer(model_id)\n",
    "\n",
    "news_list = company_df['News'].tolist()\n",
    "# Sentences are encoded by calling model.encode()\n",
    "embeddings = model.encode(news_list)\n"
   ]
  },
  {
   "cell_type": "code",
   "execution_count": null,
   "id": "c0ba9edb",
   "metadata": {},
   "outputs": [],
   "source": [
    "price_features = company_df[numerical_cols].to_numpy().reshape(-1, len(numerical_cols))\n",
    "news_list = company_df['News'].tolist()\n",
    "\n",
    "data = np.concatenate((price_features, embeddings), axis=1)\n",
    "\n"
   ]
  },
  {
   "cell_type": "code",
   "execution_count": null,
   "id": "aa9b9ed3",
   "metadata": {
    "scrolled": true
   },
   "outputs": [],
   "source": [
    "# price_features = apple_df[numerical_cols].to_numpy().reshape(-1, len(numerical_cols))\n",
    "# news_list = apple_df['News'].tolist()\n",
    "\n",
    "# data = np.concatenate((price_features, embeddings), axis=1)\n"
   ]
  },
  {
   "cell_type": "code",
   "execution_count": null,
   "id": "c83b74bd",
   "metadata": {},
   "outputs": [],
   "source": [
    "data.shape"
   ]
  },
  {
   "cell_type": "code",
   "execution_count": null,
   "id": "8127f5cb",
   "metadata": {},
   "outputs": [],
   "source": [
    "data"
   ]
  },
  {
   "cell_type": "code",
   "execution_count": null,
   "id": "0566e4c2",
   "metadata": {},
   "outputs": [],
   "source": []
  },
  {
   "cell_type": "code",
   "execution_count": null,
   "id": "3c1a069f",
   "metadata": {},
   "outputs": [],
   "source": []
  },
  {
   "cell_type": "code",
   "execution_count": null,
   "id": "d18021e2",
   "metadata": {},
   "outputs": [],
   "source": []
  },
  {
   "cell_type": "code",
   "execution_count": null,
   "id": "7ea98585",
   "metadata": {},
   "outputs": [],
   "source": []
  }
 ],
 "metadata": {
  "kernelspec": {
   "display_name": "Python 3 (ipykernel)",
   "language": "python",
   "name": "python3"
  },
  "language_info": {
   "codemirror_mode": {
    "name": "ipython",
    "version": 3
   },
   "file_extension": ".py",
   "mimetype": "text/x-python",
   "name": "python",
   "nbconvert_exporter": "python",
   "pygments_lexer": "ipython3",
   "version": "3.10.14"
  }
 },
 "nbformat": 4,
 "nbformat_minor": 5
}
