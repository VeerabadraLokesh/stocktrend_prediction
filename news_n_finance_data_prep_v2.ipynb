{
 "cells": [
  {
   "cell_type": "code",
   "execution_count": 2,
   "id": "6289d5e7",
   "metadata": {},
   "outputs": [
    {
     "name": "stderr",
     "output_type": "stream",
     "text": [
      "/var/folders/v5/cn3r_gfd1qq1zttl9lq6sp640000gn/T/ipykernel_65899/3056284442.py:20: DtypeWarning: Columns (4295,4297,4298,4299,4300,4301,4303,4304,4306,4307,4308,4309,4310,4311,4312,4313,4314,4315,4316,4317,4318,4319,4320,4321,4322,4323,4325,4326,4327,4328,4329,4330,4331,4332,4333,4334,4335,4336,4337,4338,4339,4340,4341,4342,4343,4344,4346,4347,4348,4349,4350,4351,4352,4353,4354,4355,4356,4357,4358,4359,4360,4361,4362,4363,4364,4365,4366,4367,4368,4369,4370,4372,4374,4375,4376,4377,4378,4379,4380,4381,4382,4383,4384,4385,4386,4387,4388,4389,4390,4392,4393,4394,4395,4396,4397,4398,4399,4400,4402,4403,4404,4405,4406,4407,4408,4409,4410,4411,4412,4413,4414,4415,4416,4417,4419,4421,4422,4424,4425,4426,4427,4428,4429,4430,4431,4432,4433,4434,4435,4436,4437,4440,4442,4443,4444,4445,4446,4447,4448,4449,4450,4451,4452,4453,4454,4455,4456,4457,4458,4459,4460,4461,4462,4463,4464,4466,4468,4469,4470,4471,4472,4473,4474,4475,4476,4477,4478,4479,4480,4481,4482,4483,4484,4485,4486,4487,4488,4489,4490,4491,4492,4493,4494,4495,4496,4497,4498,4499,4500,4502,4503,4506,4507,4509,4511,4512,4513,4514,4515,4516,4517,4519,4520,4521,4522,4523,4525,4526,4527,4528,4529,4530,4531,4532,4533,4534,4535,4536,4537,4538,4539,4540,4541,4542,4543,4544,4545,4546,4547,4548,4549,4550,4551,4552,4553,4554,4555,4556,4557,4558,4559,4560,4561,4562,4563,4564,4566,4568,4569,4570,4571,4572,4573,4574,4575,4576,4577,4578,4579,4580,4581,4583,4584,4585,4586,4587,4588,4589,4590,4591,4593,4594,4596,4597,4598,4599,4600,4601,4602,4603,4604,4605,4606,4607,4610,4611,4612,4613,4614,4615,4616,4617,4618,4619,4620,4621,4623,4624,4625,4626,4627,4628,4629,4630,4631,4632,4633,4634,4635,4637,4638,4639,4640,4641,4642,4643,4644,4645,4646,4647,4648,4649,4650,4651,4652,4653,4654,4655,4656,4657,4658,4659,4660,4661,4662,4663,4665,4666,4667,4668,4669,4670,4671,4672,4673,4674,4679,4680,4681,4683,4685,4686,4687,4688,4690,4691,4693,4694,4695,4696,4697,4698,4700,4701,4702,4703,4704,4705,4706,4707,4708,4709,4710,4711,4712,4715,4716,4717,4718,4719,4720,4721,4722,4723,4724,4725,4726,4727,4728,4729,4730,4731,4732,4734,4735,4736,4737,4738,4739,4740,4741,4742,4744,4745,4746,4747,4748,4749,4750,4751,4752,4753,4754,4755,4756,4757,4758,4759,4760,4761,4762,4763,4764,4765,4766,4767,4768,4770) have mixed types. Specify dtype option on import or set low_memory=False.\n",
      "  df = pd.read_csv('news_n_finance_data.csv', header=[0, 1], skipinitialspace=True)\n"
     ]
    }
   ],
   "source": [
    "\n",
    "import numpy as np\n",
    "import random\n",
    "import pandas as pd \n",
    "from pylab import mpl, plt\n",
    "%matplotlib inline\n",
    "\n",
    "from datetime import datetime\n",
    "import math, time\n",
    "import itertools\n",
    "import datetime\n",
    "from operator import itemgetter\n",
    "from sklearn.metrics import mean_squared_error\n",
    "from sklearn.preprocessing import MinMaxScaler\n",
    "from math import sqrt\n",
    "import torch\n",
    "import torch.nn as nn\n",
    "from torch.autograd import Variable\n",
    "\n",
    "\n",
    "df = pd.read_csv('news_n_finance_data.csv', header=[0, 1], skipinitialspace=True)"
   ]
  },
  {
   "cell_type": "code",
   "execution_count": 3,
   "id": "c137f359",
   "metadata": {},
   "outputs": [
    {
     "data": {
      "text/plain": [
       "MultiIndex([(     'Date', 'Unnamed: 0_level_1'),\n",
       "            ('Adj Close',                  'A'),\n",
       "            ('Adj Close',                'AAL'),\n",
       "            ('Adj Close',               'AAPL'),\n",
       "            ('Adj Close',               'ABBV'),\n",
       "            ('Adj Close',                'ABT'),\n",
       "            ('Adj Close',               'ACGL'),\n",
       "            ('Adj Close',                'ACN'),\n",
       "            ('Adj Close',               'ADBE'),\n",
       "            ('Adj Close',                'ADI'),\n",
       "            ...\n",
       "            (     'News',                 'WY'),\n",
       "            (     'News',               'WYNN'),\n",
       "            (     'News',                'XEL'),\n",
       "            (     'News',                'XOM'),\n",
       "            (     'News',               'XRAY'),\n",
       "            (     'News',                'XYL'),\n",
       "            (     'News',                'YUM'),\n",
       "            (     'News',                'ZBH'),\n",
       "            (     'News',               'ZBRA'),\n",
       "            (     'News',                'ZTS')],\n",
       "           length=4771)"
      ]
     },
     "execution_count": 3,
     "metadata": {},
     "output_type": "execute_result"
    }
   ],
   "source": [
    "df.columns"
   ]
  },
  {
   "cell_type": "code",
   "execution_count": null,
   "id": "338ec20f",
   "metadata": {},
   "outputs": [],
   "source": [
    "# df[('Close', 'AAPL')].plot(figsize=(10, 6), subplots=True);"
   ]
  },
  {
   "cell_type": "code",
   "execution_count": 5,
   "id": "04586dbd",
   "metadata": {},
   "outputs": [],
   "source": [
    "\n",
    "with open('sp500_tickers.txt', 'r') as file:\n",
    "    sp500_tickers = file.read()\n",
    "\n",
    "sp500_tickers = list(filter(None, sp500_tickers.split('\\n')))"
   ]
  },
  {
   "cell_type": "code",
   "execution_count": 6,
   "id": "102675a9",
   "metadata": {},
   "outputs": [
    {
     "name": "stderr",
     "output_type": "stream",
     "text": [
      "/var/folders/v5/cn3r_gfd1qq1zttl9lq6sp640000gn/T/ipykernel_65899/1536064283.py:4: PerformanceWarning: DataFrame is highly fragmented.  This is usually the result of calling `frame.insert` many times, which has poor performance.  Consider joining all columns at once using pd.concat(axis=1) instead. To get a de-fragmented frame, use `newframe = frame.copy()`\n",
      "  df[('MACD',    comp)] = temp_12 - temp_26\n"
     ]
    }
   ],
   "source": [
    "for comp in sp500_tickers:\n",
    "    temp_12 = df[('Close',    comp)].ewm(span=12, adjust=False).mean()\n",
    "    temp_26 = df[('Close',    comp)].ewm(span=26, adjust=False).mean()\n",
    "    df[('MACD',    comp)] = temp_12 - temp_26"
   ]
  },
  {
   "cell_type": "code",
   "execution_count": 4,
   "id": "38fd38d1",
   "metadata": {
    "collapsed": true
   },
   "outputs": [
    {
     "ename": "KeyError",
     "evalue": "'Ticker'",
     "output_type": "error",
     "traceback": [
      "\u001b[0;31m---------------------------------------------------------------------------\u001b[0m",
      "\u001b[0;31mKeyError\u001b[0m                                  Traceback (most recent call last)",
      "File \u001b[0;32m/opt/homebrew/lib/python3.11/site-packages/pandas/core/indexes/base.py:3652\u001b[0m, in \u001b[0;36mIndex.get_loc\u001b[0;34m(self, key)\u001b[0m\n\u001b[1;32m   3651\u001b[0m \u001b[38;5;28;01mtry\u001b[39;00m:\n\u001b[0;32m-> 3652\u001b[0m     \u001b[38;5;28;01mreturn\u001b[39;00m \u001b[38;5;28;43mself\u001b[39;49m\u001b[38;5;241;43m.\u001b[39;49m\u001b[43m_engine\u001b[49m\u001b[38;5;241;43m.\u001b[39;49m\u001b[43mget_loc\u001b[49m\u001b[43m(\u001b[49m\u001b[43mcasted_key\u001b[49m\u001b[43m)\u001b[49m\n\u001b[1;32m   3653\u001b[0m \u001b[38;5;28;01mexcept\u001b[39;00m \u001b[38;5;167;01mKeyError\u001b[39;00m \u001b[38;5;28;01mas\u001b[39;00m err:\n",
      "File \u001b[0;32m/opt/homebrew/lib/python3.11/site-packages/pandas/_libs/index.pyx:147\u001b[0m, in \u001b[0;36mpandas._libs.index.IndexEngine.get_loc\u001b[0;34m()\u001b[0m\n",
      "File \u001b[0;32m/opt/homebrew/lib/python3.11/site-packages/pandas/_libs/index.pyx:176\u001b[0m, in \u001b[0;36mpandas._libs.index.IndexEngine.get_loc\u001b[0;34m()\u001b[0m\n",
      "File \u001b[0;32mpandas/_libs/hashtable_class_helper.pxi:7080\u001b[0m, in \u001b[0;36mpandas._libs.hashtable.PyObjectHashTable.get_item\u001b[0;34m()\u001b[0m\n",
      "File \u001b[0;32mpandas/_libs/hashtable_class_helper.pxi:7088\u001b[0m, in \u001b[0;36mpandas._libs.hashtable.PyObjectHashTable.get_item\u001b[0;34m()\u001b[0m\n",
      "\u001b[0;31mKeyError\u001b[0m: 'Ticker'",
      "\nThe above exception was the direct cause of the following exception:\n",
      "\u001b[0;31mKeyError\u001b[0m                                  Traceback (most recent call last)",
      "Cell \u001b[0;32mIn[4], line 1\u001b[0m\n\u001b[0;32m----> 1\u001b[0m df[\u001b[43mdf\u001b[49m\u001b[43m[\u001b[49m\u001b[38;5;124;43m'\u001b[39;49m\u001b[38;5;124;43mTicker\u001b[39;49m\u001b[38;5;124;43m'\u001b[39;49m\u001b[43m]\u001b[49m\u001b[38;5;241m==\u001b[39m\u001b[38;5;124m'\u001b[39m\u001b[38;5;124mAAPL\u001b[39m\u001b[38;5;124m'\u001b[39m]\n",
      "File \u001b[0;32m/opt/homebrew/lib/python3.11/site-packages/pandas/core/frame.py:3759\u001b[0m, in \u001b[0;36mDataFrame.__getitem__\u001b[0;34m(self, key)\u001b[0m\n\u001b[1;32m   3757\u001b[0m \u001b[38;5;28;01mif\u001b[39;00m is_single_key:\n\u001b[1;32m   3758\u001b[0m     \u001b[38;5;28;01mif\u001b[39;00m \u001b[38;5;28mself\u001b[39m\u001b[38;5;241m.\u001b[39mcolumns\u001b[38;5;241m.\u001b[39mnlevels \u001b[38;5;241m>\u001b[39m \u001b[38;5;241m1\u001b[39m:\n\u001b[0;32m-> 3759\u001b[0m         \u001b[38;5;28;01mreturn\u001b[39;00m \u001b[38;5;28;43mself\u001b[39;49m\u001b[38;5;241;43m.\u001b[39;49m\u001b[43m_getitem_multilevel\u001b[49m\u001b[43m(\u001b[49m\u001b[43mkey\u001b[49m\u001b[43m)\u001b[49m\n\u001b[1;32m   3760\u001b[0m     indexer \u001b[38;5;241m=\u001b[39m \u001b[38;5;28mself\u001b[39m\u001b[38;5;241m.\u001b[39mcolumns\u001b[38;5;241m.\u001b[39mget_loc(key)\n\u001b[1;32m   3761\u001b[0m     \u001b[38;5;28;01mif\u001b[39;00m is_integer(indexer):\n",
      "File \u001b[0;32m/opt/homebrew/lib/python3.11/site-packages/pandas/core/frame.py:3814\u001b[0m, in \u001b[0;36mDataFrame._getitem_multilevel\u001b[0;34m(self, key)\u001b[0m\n\u001b[1;32m   3812\u001b[0m \u001b[38;5;28;01mdef\u001b[39;00m \u001b[38;5;21m_getitem_multilevel\u001b[39m(\u001b[38;5;28mself\u001b[39m, key):\n\u001b[1;32m   3813\u001b[0m     \u001b[38;5;66;03m# self.columns is a MultiIndex\u001b[39;00m\n\u001b[0;32m-> 3814\u001b[0m     loc \u001b[38;5;241m=\u001b[39m \u001b[38;5;28;43mself\u001b[39;49m\u001b[38;5;241;43m.\u001b[39;49m\u001b[43mcolumns\u001b[49m\u001b[38;5;241;43m.\u001b[39;49m\u001b[43mget_loc\u001b[49m\u001b[43m(\u001b[49m\u001b[43mkey\u001b[49m\u001b[43m)\u001b[49m\n\u001b[1;32m   3815\u001b[0m     \u001b[38;5;28;01mif\u001b[39;00m \u001b[38;5;28misinstance\u001b[39m(loc, (\u001b[38;5;28mslice\u001b[39m, np\u001b[38;5;241m.\u001b[39mndarray)):\n\u001b[1;32m   3816\u001b[0m         new_columns \u001b[38;5;241m=\u001b[39m \u001b[38;5;28mself\u001b[39m\u001b[38;5;241m.\u001b[39mcolumns[loc]\n",
      "File \u001b[0;32m/opt/homebrew/lib/python3.11/site-packages/pandas/core/indexes/multi.py:2811\u001b[0m, in \u001b[0;36mMultiIndex.get_loc\u001b[0;34m(self, key)\u001b[0m\n\u001b[1;32m   2808\u001b[0m     \u001b[38;5;28;01mreturn\u001b[39;00m mask\n\u001b[1;32m   2810\u001b[0m \u001b[38;5;28;01mif\u001b[39;00m \u001b[38;5;129;01mnot\u001b[39;00m \u001b[38;5;28misinstance\u001b[39m(key, \u001b[38;5;28mtuple\u001b[39m):\n\u001b[0;32m-> 2811\u001b[0m     loc \u001b[38;5;241m=\u001b[39m \u001b[38;5;28;43mself\u001b[39;49m\u001b[38;5;241;43m.\u001b[39;49m\u001b[43m_get_level_indexer\u001b[49m\u001b[43m(\u001b[49m\u001b[43mkey\u001b[49m\u001b[43m,\u001b[49m\u001b[43m \u001b[49m\u001b[43mlevel\u001b[49m\u001b[38;5;241;43m=\u001b[39;49m\u001b[38;5;241;43m0\u001b[39;49m\u001b[43m)\u001b[49m\n\u001b[1;32m   2812\u001b[0m     \u001b[38;5;28;01mreturn\u001b[39;00m _maybe_to_slice(loc)\n\u001b[1;32m   2814\u001b[0m keylen \u001b[38;5;241m=\u001b[39m \u001b[38;5;28mlen\u001b[39m(key)\n",
      "File \u001b[0;32m/opt/homebrew/lib/python3.11/site-packages/pandas/core/indexes/multi.py:3159\u001b[0m, in \u001b[0;36mMultiIndex._get_level_indexer\u001b[0;34m(self, key, level, indexer)\u001b[0m\n\u001b[1;32m   3156\u001b[0m         \u001b[38;5;28;01mreturn\u001b[39;00m \u001b[38;5;28mslice\u001b[39m(i, j, step)\n\u001b[1;32m   3158\u001b[0m \u001b[38;5;28;01melse\u001b[39;00m:\n\u001b[0;32m-> 3159\u001b[0m     idx \u001b[38;5;241m=\u001b[39m \u001b[38;5;28;43mself\u001b[39;49m\u001b[38;5;241;43m.\u001b[39;49m\u001b[43m_get_loc_single_level_index\u001b[49m\u001b[43m(\u001b[49m\u001b[43mlevel_index\u001b[49m\u001b[43m,\u001b[49m\u001b[43m \u001b[49m\u001b[43mkey\u001b[49m\u001b[43m)\u001b[49m\n\u001b[1;32m   3161\u001b[0m     \u001b[38;5;28;01mif\u001b[39;00m level \u001b[38;5;241m>\u001b[39m \u001b[38;5;241m0\u001b[39m \u001b[38;5;129;01mor\u001b[39;00m \u001b[38;5;28mself\u001b[39m\u001b[38;5;241m.\u001b[39m_lexsort_depth \u001b[38;5;241m==\u001b[39m \u001b[38;5;241m0\u001b[39m:\n\u001b[1;32m   3162\u001b[0m         \u001b[38;5;66;03m# Desired level is not sorted\u001b[39;00m\n\u001b[1;32m   3163\u001b[0m         \u001b[38;5;28;01mif\u001b[39;00m \u001b[38;5;28misinstance\u001b[39m(idx, \u001b[38;5;28mslice\u001b[39m):\n\u001b[1;32m   3164\u001b[0m             \u001b[38;5;66;03m# test_get_loc_partial_timestamp_multiindex\u001b[39;00m\n",
      "File \u001b[0;32m/opt/homebrew/lib/python3.11/site-packages/pandas/core/indexes/multi.py:2751\u001b[0m, in \u001b[0;36mMultiIndex._get_loc_single_level_index\u001b[0;34m(self, level_index, key)\u001b[0m\n\u001b[1;32m   2749\u001b[0m     \u001b[38;5;28;01mreturn\u001b[39;00m \u001b[38;5;241m-\u001b[39m\u001b[38;5;241m1\u001b[39m\n\u001b[1;32m   2750\u001b[0m \u001b[38;5;28;01melse\u001b[39;00m:\n\u001b[0;32m-> 2751\u001b[0m     \u001b[38;5;28;01mreturn\u001b[39;00m \u001b[43mlevel_index\u001b[49m\u001b[38;5;241;43m.\u001b[39;49m\u001b[43mget_loc\u001b[49m\u001b[43m(\u001b[49m\u001b[43mkey\u001b[49m\u001b[43m)\u001b[49m\n",
      "File \u001b[0;32m/opt/homebrew/lib/python3.11/site-packages/pandas/core/indexes/base.py:3654\u001b[0m, in \u001b[0;36mIndex.get_loc\u001b[0;34m(self, key)\u001b[0m\n\u001b[1;32m   3652\u001b[0m     \u001b[38;5;28;01mreturn\u001b[39;00m \u001b[38;5;28mself\u001b[39m\u001b[38;5;241m.\u001b[39m_engine\u001b[38;5;241m.\u001b[39mget_loc(casted_key)\n\u001b[1;32m   3653\u001b[0m \u001b[38;5;28;01mexcept\u001b[39;00m \u001b[38;5;167;01mKeyError\u001b[39;00m \u001b[38;5;28;01mas\u001b[39;00m err:\n\u001b[0;32m-> 3654\u001b[0m     \u001b[38;5;28;01mraise\u001b[39;00m \u001b[38;5;167;01mKeyError\u001b[39;00m(key) \u001b[38;5;28;01mfrom\u001b[39;00m \u001b[38;5;21;01merr\u001b[39;00m\n\u001b[1;32m   3655\u001b[0m \u001b[38;5;28;01mexcept\u001b[39;00m \u001b[38;5;167;01mTypeError\u001b[39;00m:\n\u001b[1;32m   3656\u001b[0m     \u001b[38;5;66;03m# If we have a listlike key, _check_indexing_error will raise\u001b[39;00m\n\u001b[1;32m   3657\u001b[0m     \u001b[38;5;66;03m#  InvalidIndexError. Otherwise we fall through and re-raise\u001b[39;00m\n\u001b[1;32m   3658\u001b[0m     \u001b[38;5;66;03m#  the TypeError.\u001b[39;00m\n\u001b[1;32m   3659\u001b[0m     \u001b[38;5;28mself\u001b[39m\u001b[38;5;241m.\u001b[39m_check_indexing_error(key)\n",
      "\u001b[0;31mKeyError\u001b[0m: 'Ticker'"
     ]
    }
   ],
   "source": [
    "df[df['Ticker']=='AAPL']"
   ]
  },
  {
   "cell_type": "code",
   "execution_count": 8,
   "id": "84b9aab8",
   "metadata": {},
   "outputs": [],
   "source": [
    "numerical_cols = ['Close', 'Open', 'Adj Close', 'High', 'Low', 'Volume','RSI', 'EMA', 'SMA', 'MACD']"
   ]
  },
  {
   "cell_type": "code",
   "execution_count": 9,
   "id": "fe3e7e8b",
   "metadata": {},
   "outputs": [],
   "source": [
    "# df=df.fillna(method='ffill')\n",
    "\n",
    "columns_to_normalize = []\n",
    "for col in numerical_cols:\n",
    "    for comp in sp500_tickers:\n",
    "        columns_to_normalize.append((col, comp))\n",
    "        \n",
    "        "
   ]
  },
  {
   "cell_type": "code",
   "execution_count": null,
   "id": "de7e6604",
   "metadata": {},
   "outputs": [],
   "source": [
    "# columns_to_normalize"
   ]
  },
  {
   "cell_type": "code",
   "execution_count": null,
   "id": "8e51483b",
   "metadata": {},
   "outputs": [],
   "source": [
    "# from sklearn.preprocessing import StandardScaler\n",
    "\n",
    "\n",
    "# scaler = StandardScaler()\n",
    "# df[columns_to_normalize] = scaler.fit_transform(df[columns_to_normalize])\n"
   ]
  },
  {
   "cell_type": "code",
   "execution_count": null,
   "id": "531c5ddf",
   "metadata": {},
   "outputs": [],
   "source": []
  },
  {
   "cell_type": "code",
   "execution_count": null,
   "id": "d2683d97",
   "metadata": {},
   "outputs": [],
   "source": []
  },
  {
   "cell_type": "code",
   "execution_count": null,
   "id": "3514e0d6",
   "metadata": {},
   "outputs": [],
   "source": []
  },
  {
   "cell_type": "code",
   "execution_count": null,
   "id": "c9980511",
   "metadata": {},
   "outputs": [],
   "source": [
    "# df.columns"
   ]
  },
  {
   "cell_type": "code",
   "execution_count": null,
   "id": "dc53ac18",
   "metadata": {
    "scrolled": true
   },
   "outputs": [],
   "source": [
    "# df"
   ]
  },
  {
   "cell_type": "code",
   "execution_count": 12,
   "id": "8b923766",
   "metadata": {},
   "outputs": [],
   "source": [
    "companies = ['AAPL','META', 'GOOGL','AMZN', 'MSFT']\n",
    "\n",
    "\n",
    "apple_df = pd.DataFrame(columns=numerical_cols)\n",
    "\n",
    "for col in numerical_cols:\n",
    "    apple_df[col] = df[(col, 'AAPL')]\n",
    "\n",
    "apple_df['News'] = df[('News', 'AAPL')]\n",
    "apple_df['Date'] = df[('Date', 'Unnamed: 0_level_1')]"
   ]
  },
  {
   "cell_type": "code",
   "execution_count": 11,
   "id": "eb7fa68d",
   "metadata": {},
   "outputs": [],
   "source": [
    "apple_df = apple_df.dropna(subset='News')"
   ]
  },
  {
   "cell_type": "code",
   "execution_count": 13,
   "id": "40b74f17",
   "metadata": {},
   "outputs": [],
   "source": [
    "company = 'AMZN'\n",
    "\n",
    "company_df = pd.DataFrame(columns=numerical_cols)\n",
    "\n",
    "for col in numerical_cols:\n",
    "    company_df[col] = df[(col, company)]\n",
    "\n",
    "company_df['News'] = df[('News', company)]\n",
    "company_df['Date'] = df[('Date', 'Unnamed: 0_level_1')]\n",
    "company_df = company_df.dropna(subset='News')"
   ]
  },
  {
   "cell_type": "code",
   "execution_count": 14,
   "id": "14c07630",
   "metadata": {},
   "outputs": [
    {
     "data": {
      "text/plain": [
       "(11, 12)"
      ]
     },
     "execution_count": 14,
     "metadata": {},
     "output_type": "execute_result"
    }
   ],
   "source": [
    "company_df.shape"
   ]
  },
  {
   "cell_type": "code",
   "execution_count": null,
   "id": "42f7bb36",
   "metadata": {},
   "outputs": [],
   "source": [
    "\n",
    "# def load_data(stock, look_back):\n",
    "#     data_raw = stock.values # convert to numpy array\n",
    "#     data = []\n",
    "    \n",
    "#     # create all possible sequences of length look_back\n",
    "#     for index in range(len(data_raw) - look_back): \n",
    "#         data.append(data_raw[index: index + look_back])\n",
    "    \n",
    "#     data = np.array(data);\n",
    "#     test_set_size = int(np.round(0.2*data.shape[0]));\n",
    "#     train_set_size = data.shape[0] - (test_set_size);\n",
    "    \n",
    "#     x_train = data[:train_set_size,:-1,:]\n",
    "#     y_train = data[:train_set_size,-1,:]\n",
    "    \n",
    "#     x_test = data[train_set_size:,:-1]\n",
    "#     y_test = data[train_set_size:,-1,:]\n",
    "    \n",
    "#     return [x_train, y_train, x_test, y_test]\n",
    "\n",
    "\n",
    "# look_back = 50 # choose sequence length\n",
    "# x_train, y_train, x_test, y_test = load_data(df, look_back)\n",
    "# print('x_train.shape = ',x_train.shape)\n",
    "# print('y_train.shape = ',y_train.shape)\n",
    "# print('x_test.shape = ',x_test.shape)\n",
    "# print('y_test.shape = ',y_test.shape)"
   ]
  },
  {
   "cell_type": "code",
   "execution_count": null,
   "id": "df12cca9",
   "metadata": {},
   "outputs": [],
   "source": [
    "len(numerical_cols)"
   ]
  },
  {
   "cell_type": "code",
   "execution_count": 15,
   "id": "28dc0786",
   "metadata": {},
   "outputs": [
    {
     "name": "stderr",
     "output_type": "stream",
     "text": [
      "No sentence-transformers model found with name /Users/arushisharma/.cache/torch/sentence_transformers/mrm8488_deberta-v3-ft-financial-news-sentiment-analysis. Creating a new one with MEAN pooling.\n"
     ]
    }
   ],
   "source": [
    "from sentence_transformers import SentenceTransformer\n",
    "\n",
    "model_id = \"mrm8488/deberta-v3-ft-financial-news-sentiment-analysis\"\n",
    "\n",
    "model = SentenceTransformer(model_id)\n",
    "\n",
    "news_list = company_df['News'].tolist()\n",
    "# Sentences are encoded by calling model.encode()\n",
    "embeddings = model.encode(news_list)\n"
   ]
  },
  {
   "cell_type": "code",
   "execution_count": 16,
   "id": "c0ba9edb",
   "metadata": {},
   "outputs": [],
   "source": [
    "price_features = company_df[numerical_cols].to_numpy().reshape(-1, len(numerical_cols))\n",
    "news_list = company_df['News'].tolist()\n",
    "\n",
    "data = np.concatenate((price_features, embeddings), axis=1)\n",
    "\n"
   ]
  },
  {
   "cell_type": "code",
   "execution_count": 49,
   "id": "aa9b9ed3",
   "metadata": {
    "scrolled": true
   },
   "outputs": [],
   "source": [
    "# price_features = apple_df[numerical_cols].to_numpy().reshape(-1, len(numerical_cols))\n",
    "# news_list = apple_df['News'].tolist()\n",
    "\n",
    "# data = np.concatenate((price_features, embeddings), axis=1)\n"
   ]
  },
  {
   "cell_type": "code",
   "execution_count": 17,
   "id": "c83b74bd",
   "metadata": {},
   "outputs": [
    {
     "data": {
      "text/plain": [
       "(11, 778)"
      ]
     },
     "execution_count": 17,
     "metadata": {},
     "output_type": "execute_result"
    }
   ],
   "source": [
    "data.shape"
   ]
  },
  {
   "cell_type": "code",
   "execution_count": 52,
   "id": "8127f5cb",
   "metadata": {},
   "outputs": [
    {
     "data": {
      "text/plain": [
       "array([[ 4.41425018e+01,  4.38074989e+01,  4.18585472e+01, ...,\n",
       "         8.34771931e-01, -5.16160369e-01, -8.26762855e-01],\n",
       "       [ 4.62299995e+01,  4.65299988e+01,  4.40070801e+01, ...,\n",
       "        -3.85308594e-01, -1.37039793e+00, -7.32935593e-02],\n",
       "       [ 4.66974983e+01,  4.79150009e+01,  4.49556274e+01, ...,\n",
       "         8.30935478e-01, -3.94178748e-01, -3.74307126e-01],\n",
       "       ...,\n",
       "       [ 6.17200012e+01,  5.90900002e+01,  6.01954918e+01, ...,\n",
       "         1.56336427e-02,  4.18343246e-01,  4.51077998e-01],\n",
       "       [ 6.13800011e+01,  6.26875000e+01,  5.98638992e+01, ...,\n",
       "         1.56336427e-02,  4.18343246e-01,  4.51077998e-01],\n",
       "       [ 8.28750000e+01,  8.08375015e+01,  8.10467529e+01, ...,\n",
       "         2.01209709e-01, -9.20592025e-02,  4.41963747e-02]])"
      ]
     },
     "execution_count": 52,
     "metadata": {},
     "output_type": "execute_result"
    }
   ],
   "source": [
    "data"
   ]
  },
  {
   "cell_type": "code",
   "execution_count": null,
   "id": "0566e4c2",
   "metadata": {},
   "outputs": [],
   "source": []
  },
  {
   "cell_type": "code",
   "execution_count": null,
   "id": "3c1a069f",
   "metadata": {},
   "outputs": [],
   "source": []
  },
  {
   "cell_type": "code",
   "execution_count": null,
   "id": "d18021e2",
   "metadata": {},
   "outputs": [],
   "source": []
  },
  {
   "cell_type": "code",
   "execution_count": null,
   "id": "7ea98585",
   "metadata": {},
   "outputs": [],
   "source": []
  }
 ],
 "metadata": {
  "kernelspec": {
   "display_name": "Python 3 (ipykernel)",
   "language": "python",
   "name": "python3"
  },
  "language_info": {
   "codemirror_mode": {
    "name": "ipython",
    "version": 3
   },
   "file_extension": ".py",
   "mimetype": "text/x-python",
   "name": "python",
   "nbconvert_exporter": "python",
   "pygments_lexer": "ipython3",
   "version": "3.11.4"
  }
 },
 "nbformat": 4,
 "nbformat_minor": 5
}
