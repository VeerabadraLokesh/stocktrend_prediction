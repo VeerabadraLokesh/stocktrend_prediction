{
 "cells": [
  {
   "cell_type": "code",
   "execution_count": 10,
   "id": "9be05933-5c08-4c2d-b345-a8ad55bd408f",
   "metadata": {},
   "outputs": [],
   "source": [
    "import lzma\n",
    "import pickle\n",
    "import pandas as pd\n",
    "import os"
   ]
  },
  {
   "cell_type": "code",
   "execution_count": 22,
   "id": "100f0318-39dd-4e73-932c-dd7796f6c909",
   "metadata": {},
   "outputs": [
    {
     "name": "stdout",
     "output_type": "stream",
     "text": [
      "AMZN\n",
      "FB\n",
      "AAPL\n",
      "dict_keys(['2019-12-29', '2019-08-19'])\n",
      "TSLA\n",
      "GOOGL\n",
      "MSFT\n",
      "NFLX\n"
     ]
    }
   ],
   "source": [
    "for ticker in os.listdir('datasets/ticker_data/sentiments'):\n",
    "    with lzma.open(f'datasets/ticker_data/sentiments/{ticker}') as rf:\n",
    "        data = pickle.load(rf)\n",
    "        if len(data) > 100:\n",
    "            print(ticker[:-3])\n",
    "        if ticker[:-3] == 'META':\n",
    "            print(data.keys())"
   ]
  },
  {
   "cell_type": "code",
   "execution_count": 21,
   "id": "33ec49d5-5838-4544-846e-b70234c6b767",
   "metadata": {},
   "outputs": [
    {
     "name": "stderr",
     "output_type": "stream",
     "text": [
      "[*********************100%%**********************]  1 of 1 completed\n"
     ]
    }
   ],
   "source": [
    "import yfinance as yf\n",
    "\n",
    "def fetch_stock_data(symbol, start_date, end_date):\n",
    "    stock_data = yf.download(symbol, start=start_date, end=end_date)\n",
    "    return stock_data\n",
    "\n",
    "start_date = '2015-01-01'\n",
    "end_date = '2020-01-01'\n",
    "\n",
    "symbol = 'META'\n",
    "\n",
    "data = fetch_stock_data(symbol, start_date, end_date)"
   ]
  },
  {
   "cell_type": "code",
   "execution_count": 4,
   "id": "285b6922-4198-41f6-951f-6af507a767e9",
   "metadata": {},
   "outputs": [],
   "source": [
    "\n",
    "\n",
    "with lzma.open('datasets/ticker_data/embeddings/AAPL.xz') as rf:\n",
    "    data = pickle.load(rf)"
   ]
  },
  {
   "cell_type": "code",
   "execution_count": 6,
   "id": "a71e4946-164f-468f-8d73-ee2b2daa1700",
   "metadata": {},
   "outputs": [],
   "source": [
    "with lzma.open('datasets/ticker_data/sentiments/AAPL.xz') as rf:\n",
    "    sentiment_data = pickle.load(rf)"
   ]
  },
  {
   "cell_type": "code",
   "execution_count": 5,
   "id": "cda7fa20-36ef-4c15-b19e-01e1d7b60c25",
   "metadata": {},
   "outputs": [],
   "source": [
    "embedding_df = pd.DataFrame.from_dict(data, orient='index')\n",
    "embedding_df.index = pd.to_datetime(embedding_df.index)\n"
   ]
  },
  {
   "cell_type": "code",
   "execution_count": 7,
   "id": "e8705bdb-257b-4f94-add4-3ac6a58d1869",
   "metadata": {},
   "outputs": [],
   "source": [
    "sentiment_df = pd.DataFrame.from_dict(sentiment_data, orient='index')\n",
    "sentiment_df.index = pd.to_datetime(sentiment_df.index)"
   ]
  },
  {
   "cell_type": "code",
   "execution_count": 8,
   "id": "77b2be9b-52b8-44af-b2b6-c7be57817d9c",
   "metadata": {},
   "outputs": [
    {
     "data": {
      "text/html": [
       "<div>\n",
       "<style scoped>\n",
       "    .dataframe tbody tr th:only-of-type {\n",
       "        vertical-align: middle;\n",
       "    }\n",
       "\n",
       "    .dataframe tbody tr th {\n",
       "        vertical-align: top;\n",
       "    }\n",
       "\n",
       "    .dataframe thead th {\n",
       "        text-align: right;\n",
       "    }\n",
       "</style>\n",
       "<table border=\"1\" class=\"dataframe\">\n",
       "  <thead>\n",
       "    <tr style=\"text-align: right;\">\n",
       "      <th></th>\n",
       "      <th>label</th>\n",
       "      <th>score</th>\n",
       "    </tr>\n",
       "  </thead>\n",
       "  <tbody>\n",
       "    <tr>\n",
       "      <th>2020-06-11</th>\n",
       "      <td>positive</td>\n",
       "      <td>0.511585</td>\n",
       "    </tr>\n",
       "    <tr>\n",
       "      <th>2020-06-10</th>\n",
       "      <td>neutral</td>\n",
       "      <td>0.918866</td>\n",
       "    </tr>\n",
       "    <tr>\n",
       "      <th>2020-06-09</th>\n",
       "      <td>positive</td>\n",
       "      <td>0.881793</td>\n",
       "    </tr>\n",
       "    <tr>\n",
       "      <th>2020-06-08</th>\n",
       "      <td>neutral</td>\n",
       "      <td>0.838791</td>\n",
       "    </tr>\n",
       "    <tr>\n",
       "      <th>2020-06-05</th>\n",
       "      <td>neutral</td>\n",
       "      <td>0.751873</td>\n",
       "    </tr>\n",
       "    <tr>\n",
       "      <th>...</th>\n",
       "      <td>...</td>\n",
       "      <td>...</td>\n",
       "    </tr>\n",
       "    <tr>\n",
       "      <th>2016-07-08</th>\n",
       "      <td>neutral</td>\n",
       "      <td>0.972592</td>\n",
       "    </tr>\n",
       "    <tr>\n",
       "      <th>2016-07-07</th>\n",
       "      <td>neutral</td>\n",
       "      <td>0.898566</td>\n",
       "    </tr>\n",
       "    <tr>\n",
       "      <th>2016-07-06</th>\n",
       "      <td>neutral</td>\n",
       "      <td>0.596797</td>\n",
       "    </tr>\n",
       "    <tr>\n",
       "      <th>2016-07-05</th>\n",
       "      <td>neutral</td>\n",
       "      <td>0.998173</td>\n",
       "    </tr>\n",
       "    <tr>\n",
       "      <th>2016-07-01</th>\n",
       "      <td>neutral</td>\n",
       "      <td>0.797542</td>\n",
       "    </tr>\n",
       "  </tbody>\n",
       "</table>\n",
       "<p>931 rows × 2 columns</p>\n",
       "</div>"
      ],
      "text/plain": [
       "               label     score\n",
       "2020-06-11  positive  0.511585\n",
       "2020-06-10   neutral  0.918866\n",
       "2020-06-09  positive  0.881793\n",
       "2020-06-08   neutral  0.838791\n",
       "2020-06-05   neutral  0.751873\n",
       "...              ...       ...\n",
       "2016-07-08   neutral  0.972592\n",
       "2016-07-07   neutral  0.898566\n",
       "2016-07-06   neutral  0.596797\n",
       "2016-07-05   neutral  0.998173\n",
       "2016-07-01   neutral  0.797542\n",
       "\n",
       "[931 rows x 2 columns]"
      ]
     },
     "execution_count": 8,
     "metadata": {},
     "output_type": "execute_result"
    }
   ],
   "source": [
    "sentiment_df"
   ]
  },
  {
   "cell_type": "code",
   "execution_count": null,
   "id": "e7719067-cd21-43a3-98ef-0a1f4195daac",
   "metadata": {},
   "outputs": [],
   "source": []
  }
 ],
 "metadata": {
  "kernelspec": {
   "display_name": "Python 3 (ipykernel)",
   "language": "python",
   "name": "python3"
  },
  "language_info": {
   "codemirror_mode": {
    "name": "ipython",
    "version": 3
   },
   "file_extension": ".py",
   "mimetype": "text/x-python",
   "name": "python",
   "nbconvert_exporter": "python",
   "pygments_lexer": "ipython3",
   "version": "3.10.14"
  }
 },
 "nbformat": 4,
 "nbformat_minor": 5
}
