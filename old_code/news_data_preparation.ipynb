{
 "cells": [
  {
   "cell_type": "code",
   "execution_count": null,
   "id": "4b4dabb9",
   "metadata": {},
   "outputs": [],
   "source": [
    "# import pandas as pd\n",
    "\n",
    "# raw_analyst_ratings_df = pd.read_csv('raw_analyst_ratings.csv')\n",
    "\n",
    "from dataset import load_dataset\n",
    "dataset_name ='miguelaenlle/massive-stock-news-analysis-db-for-nlpbacktests'\n",
    "file_name = 'raw_analyst_ratings.csv'\n",
    "raw_analyst_ratings_df = load_dataset(dataset_name, file_name)"
   ]
  },
  {
   "cell_type": "code",
   "execution_count": null,
   "id": "1f3e6aa4",
   "metadata": {
    "scrolled": true
   },
   "outputs": [],
   "source": [
    "raw_analyst_ratings_df"
   ]
  },
  {
   "cell_type": "code",
   "execution_count": null,
   "id": "2db03e70-5fe0-49ad-9261-91153ca87bb3",
   "metadata": {},
   "outputs": [],
   "source": [
    "raw_analyst_ratings_df['url'].iloc[0]"
   ]
  },
  {
   "cell_type": "code",
   "execution_count": null,
   "id": "c0475f60-3559-44d2-aaa5-e9c3bfeca44a",
   "metadata": {},
   "outputs": [],
   "source": [
    "from itertools import islice\n",
    "for index, row in islice(raw_analyst_ratings_df.iterrows(), 100, 110):\n",
    "    print(row['Unnamed: 0'])"
   ]
  },
  {
   "cell_type": "code",
   "execution_count": null,
   "id": "95518973",
   "metadata": {},
   "outputs": [],
   "source": [
    "raw_analyst_ratings_df['url'].iloc[0]\n",
    "import requests\n",
    "from bs4 import BeautifulSoup\n",
    "\n",
    "url = raw_analyst_ratings_df['url'].iloc[0]\n",
    "\n",
    "response = requests.get(url)"
   ]
  },
  {
   "cell_type": "code",
   "execution_count": null,
   "id": "efc1071f-9401-4277-a6ff-a35157697a87",
   "metadata": {},
   "outputs": [],
   "source": [
    "len(response.text)\n",
    "\n",
    "if response.status_code == 200:\n",
    "    html_content = str(response.text)\n",
    "    # print(html_content)\n",
    "else:\n",
    "    print(\"Failed to retrieve the content\")"
   ]
  },
  {
   "cell_type": "code",
   "execution_count": null,
   "id": "5e2bdb70",
   "metadata": {},
   "outputs": [],
   "source": [
    "\n",
    "\n",
    "\n",
    "print(len(html_content))\n",
    "soup = BeautifulSoup(html_content, 'html.parser')\n",
    "# article_text = soup.find('meta')\n",
    "article_text = soup.find('body').get_text(separator=\"\\n\", strip=True)\n",
    "# title = soup.find(\"meta\", property=\"og:title\")\n",
    "# url = soup.find(\"meta\", property=\"og:url\")\n",
    "\n",
    "# print(title[\"content\"] if title else \"No meta title given\")\n",
    "# print(url[\"content\"] if url else \"No meta url given\")\n",
    "\n",
    "# print(article_text)\n",
    "len(article_text)"
   ]
  },
  {
   "cell_type": "code",
   "execution_count": null,
   "id": "97d95d10-be94-4cf6-9c1c-495a06588bbe",
   "metadata": {},
   "outputs": [],
   "source": [
    "soup.find('body').get_text(separator=\"\\n\", strip=True)"
   ]
  },
  {
   "cell_type": "code",
   "execution_count": null,
   "id": "e18d237c-77a0-4a90-a96f-7bf6fd5d8448",
   "metadata": {},
   "outputs": [],
   "source": [
    "body_ = soup.find('body').get_text(separator=\"\\n\", strip=True)\n",
    "with open('body.txt', 'w') as wf:\n",
    "    wf.write(body_)\n",
    "    "
   ]
  },
  {
   "cell_type": "code",
   "execution_count": null,
   "id": "385e44fe-3651-4d76-9bf0-a355678be1b7",
   "metadata": {},
   "outputs": [],
   "source": [
    "main_content = str(soup.find(\"div\", {\"class\": \"main-content-container\"}))#.replace(\"\\n\",\"\")\n",
    "with open('main_content.txt', 'w') as wf:\n",
    "    wf.write(main_content)\n",
    "    "
   ]
  },
  {
   "cell_type": "code",
   "execution_count": null,
   "id": "b05835b2-2de2-42bf-9a9f-7134d970bb6b",
   "metadata": {},
   "outputs": [],
   "source": [
    "x = str(main_content)\n",
    "soup1 = BeautifulSoup(x, 'html.parser')"
   ]
  },
  {
   "cell_type": "code",
   "execution_count": null,
   "id": "72e36869-fd7d-438a-b765-5410aabcf2c8",
   "metadata": {},
   "outputs": [],
   "source": [
    "continte_text = soup1.get_text(separator=\"\\n\", strip=True)\n",
    "with open('content_text.txt', 'w') as wf:\n",
    "    wf.write(str(continte_text))"
   ]
  },
  {
   "cell_type": "code",
   "execution_count": null,
   "id": "a328038e",
   "metadata": {},
   "outputs": [],
   "source": [
    "have stock news and stock data (open, close amount) of same time period\n",
    "\n",
    "\n",
    "get company-wise stock news and stock data"
   ]
  },
  {
   "cell_type": "code",
   "execution_count": null,
   "id": "771197ff",
   "metadata": {},
   "outputs": [],
   "source": [
    "Create company-wise news historical data\n",
    "Buid a dataset with following features: date, ticker symbol, opening price, the highest price of the day, lowest price of the day, closing price, relative strength index (RSI), exponential moving average (EMCA), simple moving average (SMA), moving average convergence divergence (MACD), and the top news headline associated with the ticker symbol and date\n",
    "Experiment with different modelling strategies to predict stock going high or low (classification)\n",
    "\n"
   ]
  },
  {
   "cell_type": "code",
   "execution_count": null,
   "id": "3fc6a095",
   "metadata": {},
   "outputs": [],
   "source": [
    "AAPL 2016-2020 \n",
    "\n"
   ]
  },
  {
   "cell_type": "code",
   "execution_count": null,
   "id": "6987a167",
   "metadata": {},
   "outputs": [],
   "source": [
    "\n",
    "# To get a list of all tags\n",
    "all_tags = [tag.name for tag in soup.find_all(True)]\n",
    "\n",
    "# Print all unique tags\n",
    "print(set(all_tags))"
   ]
  },
  {
   "cell_type": "code",
   "execution_count": null,
   "id": "6b86283f",
   "metadata": {
    "scrolled": true
   },
   "outputs": [],
   "source": [
    "\n",
    "raw_partner_headlines_df = pd.read_csv('raw_partner_headlines.csv')"
   ]
  },
  {
   "cell_type": "code",
   "execution_count": null,
   "id": "52c89da1",
   "metadata": {
    "scrolled": true
   },
   "outputs": [],
   "source": [
    "raw_partner_headlines_df"
   ]
  },
  {
   "cell_type": "code",
   "execution_count": null,
   "id": "4bdec989",
   "metadata": {},
   "outputs": [],
   "source": [
    "\n",
    "analyst_ratings_processed_df = pd.read_csv('analyst_ratings_processed.csv')"
   ]
  },
  {
   "cell_type": "code",
   "execution_count": null,
   "id": "3846717e",
   "metadata": {},
   "outputs": [],
   "source": [
    "analyst_ratings_processed_df['date']"
   ]
  },
  {
   "cell_type": "code",
   "execution_count": null,
   "id": "1cdc0b30",
   "metadata": {},
   "outputs": [],
   "source": []
  }
 ],
 "metadata": {
  "kernelspec": {
   "display_name": "Python 3 (ipykernel)",
   "language": "python",
   "name": "python3"
  },
  "language_info": {
   "codemirror_mode": {
    "name": "ipython",
    "version": 3
   },
   "file_extension": ".py",
   "mimetype": "text/x-python",
   "name": "python",
   "nbconvert_exporter": "python",
   "pygments_lexer": "ipython3",
   "version": "3.10.14"
  }
 },
 "nbformat": 4,
 "nbformat_minor": 5
}
